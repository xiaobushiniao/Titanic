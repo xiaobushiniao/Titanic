{
 "cells": [
  {
   "cell_type": "markdown",
   "metadata": {
    "papermill": {
     "duration": 0.037514,
     "end_time": "2025-06-17T13:36:57.759487",
     "exception": false,
     "start_time": "2025-06-17T13:36:57.721973",
     "status": "completed"
    },
    "tags": []
   },
   "source": [
    "# 数据预处理"
   ]
  },
  {
   "cell_type": "code",
   "execution_count": 1,
   "metadata": {
    "_cell_guid": "b1076dfc-b9ad-4769-8c92-a6c4dae69d19",
    "_uuid": "8f2839f25d086af736a60e9eeb907d3b93b6e0e5",
    "papermill": {
     "duration": 0.891618,
     "end_time": "2025-06-17T13:36:58.688103",
     "exception": false,
     "start_time": "2025-06-17T13:36:57.796485",
     "status": "completed"
    },
    "tags": []
   },
   "outputs": [
    {
     "name": "stderr",
     "output_type": "stream",
     "text": [
      "[2025-06-18 14:27:55] 库准备完毕\n"
     ]
    }
   ],
   "source": [
    "import numpy as np \n",
    "import pandas as pd \n",
    "import seaborn as sns \n",
    "import matplotlib.pyplot as plt\n",
    "import logging\n",
    "\n",
    "root_logger = logging.getLogger()\n",
    "if root_logger.hasHandlers():\n",
    "    root_logger.handlers.clear()  # 或用 root_logger.handlers[:] = []\n",
    "\n",
    "logging.basicConfig(\n",
    "    level=logging.INFO,\n",
    "    format='[%(asctime)s] %(message)s',\n",
    "    datefmt='%Y-%m-%d %H:%M:%S',\n",
    "    handlers=[\n",
    "        logging.FileHandler(\"train_log.txt\", mode='w'),  # mode='w' 表示每次运行都清空\n",
    "        logging.StreamHandler()                          # 控制台输出\n",
    "    ]\n",
    ")\n",
    "\n",
    "\n",
    "\n",
    "import os\n",
    "for dirname, _, filenames in os.walk('/kaggle/input'):\n",
    "    for filename in filenames:\n",
    "        print(os.path.join(dirname, filename))\n",
    "        \n",
    "logging.info(\"库准备完毕\")"
   ]
  },
  {
   "cell_type": "code",
   "execution_count": 2,
   "metadata": {
    "papermill": {
     "duration": 0.072942,
     "end_time": "2025-06-17T13:37:00.083267",
     "exception": false,
     "start_time": "2025-06-17T13:37:00.010325",
     "status": "completed"
    },
    "tags": []
   },
   "outputs": [
    {
     "name": "stdout",
     "output_type": "stream",
     "text": [
      "训练集列名：\n",
      "Index(['PassengerId', 'Survived', 'Pclass', 'Name', 'Sex', 'Age', 'SibSp',\n",
      "       'Parch', 'Ticket', 'Fare', 'Cabin', 'Embarked'],\n",
      "      dtype='object')\n",
      "\n",
      "测试集列名：\n",
      "Index(['PassengerId', 'Pclass', 'Name', 'Sex', 'Age', 'SibSp', 'Parch',\n",
      "       'Ticket', 'Fare', 'Cabin', 'Embarked'],\n",
      "      dtype='object')\n"
     ]
    }
   ],
   "source": [
    "training = pd.read_csv('./train.csv')\n",
    "test = pd.read_csv('./test.csv')\n",
    "print(\"训练集列名：\")\n",
    "print(training.columns)\n",
    "\n",
    "print(\"\\n测试集列名：\")\n",
    "print(test.columns)\n"
   ]
  },
  {
   "cell_type": "code",
   "execution_count": 3,
   "metadata": {
    "papermill": {
     "duration": 0.07521,
     "end_time": "2025-06-17T13:37:00.195241",
     "exception": false,
     "start_time": "2025-06-17T13:37:00.120031",
     "status": "completed"
    },
    "tags": []
   },
   "outputs": [
    {
     "data": {
      "text/plain": [
       "Index(['PassengerId', 'Survived', 'Pclass', 'Name', 'Sex', 'Age', 'SibSp',\n",
       "       'Parch', 'Ticket', 'Fare', 'Cabin', 'Embarked', 'train_test'],\n",
       "      dtype='object')"
      ]
     },
     "execution_count": 3,
     "metadata": {},
     "output_type": "execute_result"
    }
   ],
   "source": [
    "training['train_test'] = 1\n",
    "test['train_test'] = 0\n",
    "test['Survived'] = np.nan\n",
    "all_data = pd.concat([training,test])\n",
    "\n",
    "%matplotlib inline\n",
    "all_data.columns"
   ]
  },
  {
   "cell_type": "code",
   "execution_count": 4,
   "metadata": {
    "papermill": {
     "duration": 0.055814,
     "end_time": "2025-06-17T13:37:00.289067",
     "exception": false,
     "start_time": "2025-06-17T13:37:00.233253",
     "status": "completed"
    },
    "tags": []
   },
   "outputs": [
    {
     "name": "stdout",
     "output_type": "stream",
     "text": [
      "<class 'pandas.core.frame.DataFrame'>\n",
      "RangeIndex: 891 entries, 0 to 890\n",
      "Data columns (total 13 columns):\n",
      " #   Column       Non-Null Count  Dtype  \n",
      "---  ------       --------------  -----  \n",
      " 0   PassengerId  891 non-null    int64  \n",
      " 1   Survived     891 non-null    int64  \n",
      " 2   Pclass       891 non-null    int64  \n",
      " 3   Name         891 non-null    object \n",
      " 4   Sex          891 non-null    object \n",
      " 5   Age          714 non-null    float64\n",
      " 6   SibSp        891 non-null    int64  \n",
      " 7   Parch        891 non-null    int64  \n",
      " 8   Ticket       891 non-null    object \n",
      " 9   Fare         891 non-null    float64\n",
      " 10  Cabin        204 non-null    object \n",
      " 11  Embarked     889 non-null    object \n",
      " 12  train_test   891 non-null    int64  \n",
      "dtypes: float64(2), int64(6), object(5)\n",
      "memory usage: 90.6+ KB\n"
     ]
    }
   ],
   "source": [
    "training.info()"
   ]
  },
  {
   "cell_type": "code",
   "execution_count": 5,
   "metadata": {
    "papermill": {
     "duration": 0.052113,
     "end_time": "2025-06-17T13:37:00.383236",
     "exception": false,
     "start_time": "2025-06-17T13:37:00.331123",
     "status": "completed"
    },
    "tags": []
   },
   "outputs": [
    {
     "name": "stdout",
     "output_type": "stream",
     "text": [
      "<class 'pandas.core.frame.DataFrame'>\n",
      "RangeIndex: 418 entries, 0 to 417\n",
      "Data columns (total 13 columns):\n",
      " #   Column       Non-Null Count  Dtype  \n",
      "---  ------       --------------  -----  \n",
      " 0   PassengerId  418 non-null    int64  \n",
      " 1   Pclass       418 non-null    int64  \n",
      " 2   Name         418 non-null    object \n",
      " 3   Sex          418 non-null    object \n",
      " 4   Age          332 non-null    float64\n",
      " 5   SibSp        418 non-null    int64  \n",
      " 6   Parch        418 non-null    int64  \n",
      " 7   Ticket       418 non-null    object \n",
      " 8   Fare         417 non-null    float64\n",
      " 9   Cabin        91 non-null     object \n",
      " 10  Embarked     418 non-null    object \n",
      " 11  train_test   418 non-null    int64  \n",
      " 12  Survived     0 non-null      float64\n",
      "dtypes: float64(3), int64(5), object(5)\n",
      "memory usage: 42.6+ KB\n"
     ]
    }
   ],
   "source": [
    "test.info()"
   ]
  },
  {
   "cell_type": "code",
   "execution_count": 6,
   "metadata": {
    "papermill": {
     "duration": 0.080302,
     "end_time": "2025-06-17T13:37:00.502370",
     "exception": false,
     "start_time": "2025-06-17T13:37:00.422068",
     "status": "completed"
    },
    "tags": []
   },
   "outputs": [
    {
     "data": {
      "text/html": [
       "<div>\n",
       "<style scoped>\n",
       "    .dataframe tbody tr th:only-of-type {\n",
       "        vertical-align: middle;\n",
       "    }\n",
       "\n",
       "    .dataframe tbody tr th {\n",
       "        vertical-align: top;\n",
       "    }\n",
       "\n",
       "    .dataframe thead th {\n",
       "        text-align: right;\n",
       "    }\n",
       "</style>\n",
       "<table border=\"1\" class=\"dataframe\">\n",
       "  <thead>\n",
       "    <tr style=\"text-align: right;\">\n",
       "      <th></th>\n",
       "      <th>PassengerId</th>\n",
       "      <th>Survived</th>\n",
       "      <th>Pclass</th>\n",
       "      <th>Age</th>\n",
       "      <th>SibSp</th>\n",
       "      <th>Parch</th>\n",
       "      <th>Fare</th>\n",
       "      <th>train_test</th>\n",
       "    </tr>\n",
       "  </thead>\n",
       "  <tbody>\n",
       "    <tr>\n",
       "      <th>count</th>\n",
       "      <td>891.000000</td>\n",
       "      <td>891.000000</td>\n",
       "      <td>891.000000</td>\n",
       "      <td>714.000000</td>\n",
       "      <td>891.000000</td>\n",
       "      <td>891.000000</td>\n",
       "      <td>891.000000</td>\n",
       "      <td>891.0</td>\n",
       "    </tr>\n",
       "    <tr>\n",
       "      <th>mean</th>\n",
       "      <td>446.000000</td>\n",
       "      <td>0.383838</td>\n",
       "      <td>2.308642</td>\n",
       "      <td>29.699118</td>\n",
       "      <td>0.523008</td>\n",
       "      <td>0.381594</td>\n",
       "      <td>32.204208</td>\n",
       "      <td>1.0</td>\n",
       "    </tr>\n",
       "    <tr>\n",
       "      <th>std</th>\n",
       "      <td>257.353842</td>\n",
       "      <td>0.486592</td>\n",
       "      <td>0.836071</td>\n",
       "      <td>14.526497</td>\n",
       "      <td>1.102743</td>\n",
       "      <td>0.806057</td>\n",
       "      <td>49.693429</td>\n",
       "      <td>0.0</td>\n",
       "    </tr>\n",
       "    <tr>\n",
       "      <th>min</th>\n",
       "      <td>1.000000</td>\n",
       "      <td>0.000000</td>\n",
       "      <td>1.000000</td>\n",
       "      <td>0.420000</td>\n",
       "      <td>0.000000</td>\n",
       "      <td>0.000000</td>\n",
       "      <td>0.000000</td>\n",
       "      <td>1.0</td>\n",
       "    </tr>\n",
       "    <tr>\n",
       "      <th>25%</th>\n",
       "      <td>223.500000</td>\n",
       "      <td>0.000000</td>\n",
       "      <td>2.000000</td>\n",
       "      <td>20.125000</td>\n",
       "      <td>0.000000</td>\n",
       "      <td>0.000000</td>\n",
       "      <td>7.910400</td>\n",
       "      <td>1.0</td>\n",
       "    </tr>\n",
       "    <tr>\n",
       "      <th>50%</th>\n",
       "      <td>446.000000</td>\n",
       "      <td>0.000000</td>\n",
       "      <td>3.000000</td>\n",
       "      <td>28.000000</td>\n",
       "      <td>0.000000</td>\n",
       "      <td>0.000000</td>\n",
       "      <td>14.454200</td>\n",
       "      <td>1.0</td>\n",
       "    </tr>\n",
       "    <tr>\n",
       "      <th>75%</th>\n",
       "      <td>668.500000</td>\n",
       "      <td>1.000000</td>\n",
       "      <td>3.000000</td>\n",
       "      <td>38.000000</td>\n",
       "      <td>1.000000</td>\n",
       "      <td>0.000000</td>\n",
       "      <td>31.000000</td>\n",
       "      <td>1.0</td>\n",
       "    </tr>\n",
       "    <tr>\n",
       "      <th>max</th>\n",
       "      <td>891.000000</td>\n",
       "      <td>1.000000</td>\n",
       "      <td>3.000000</td>\n",
       "      <td>80.000000</td>\n",
       "      <td>8.000000</td>\n",
       "      <td>6.000000</td>\n",
       "      <td>512.329200</td>\n",
       "      <td>1.0</td>\n",
       "    </tr>\n",
       "  </tbody>\n",
       "</table>\n",
       "</div>"
      ],
      "text/plain": [
       "       PassengerId    Survived      Pclass         Age       SibSp  \\\n",
       "count   891.000000  891.000000  891.000000  714.000000  891.000000   \n",
       "mean    446.000000    0.383838    2.308642   29.699118    0.523008   \n",
       "std     257.353842    0.486592    0.836071   14.526497    1.102743   \n",
       "min       1.000000    0.000000    1.000000    0.420000    0.000000   \n",
       "25%     223.500000    0.000000    2.000000   20.125000    0.000000   \n",
       "50%     446.000000    0.000000    3.000000   28.000000    0.000000   \n",
       "75%     668.500000    1.000000    3.000000   38.000000    1.000000   \n",
       "max     891.000000    1.000000    3.000000   80.000000    8.000000   \n",
       "\n",
       "            Parch        Fare  train_test  \n",
       "count  891.000000  891.000000       891.0  \n",
       "mean     0.381594   32.204208         1.0  \n",
       "std      0.806057   49.693429         0.0  \n",
       "min      0.000000    0.000000         1.0  \n",
       "25%      0.000000    7.910400         1.0  \n",
       "50%      0.000000   14.454200         1.0  \n",
       "75%      0.000000   31.000000         1.0  \n",
       "max      6.000000  512.329200         1.0  "
      ]
     },
     "execution_count": 6,
     "metadata": {},
     "output_type": "execute_result"
    }
   ],
   "source": [
    "training.describe()"
   ]
  },
  {
   "cell_type": "code",
   "execution_count": 7,
   "metadata": {
    "papermill": {
     "duration": 0.048708,
     "end_time": "2025-06-17T13:37:00.588953",
     "exception": false,
     "start_time": "2025-06-17T13:37:00.540245",
     "status": "completed"
    },
    "tags": []
   },
   "outputs": [],
   "source": [
    "df_num = training[['Age','SibSp','Parch','Fare']]\n",
    "df_cat = training[['Survived','Pclass','Sex','Ticket','Cabin','Embarked']]"
   ]
  },
  {
   "cell_type": "markdown",
   "metadata": {
    "papermill": {
     "duration": 0.03741,
     "end_time": "2025-06-17T13:37:00.664103",
     "exception": false,
     "start_time": "2025-06-17T13:37:00.626693",
     "status": "completed"
    },
    "tags": []
   },
   "source": [
    "## 数值型"
   ]
  },
  {
   "cell_type": "code",
   "execution_count": 8,
   "metadata": {
    "papermill": {
     "duration": 0.727334,
     "end_time": "2025-06-17T13:37:01.429259",
     "exception": false,
     "start_time": "2025-06-17T13:37:00.701925",
     "status": "completed"
    },
    "tags": []
   },
   "outputs": [
    {
     "data": {
      "image/png": "[encoded data removed]",
      "text/plain": [
       "<Figure size 640x480 with 1 Axes>"
      ]
     },
     "metadata": {},
     "output_type": "display_data"
    },
    {
     "data": {
      "image/png": "[encoded data removed]",
      "text/plain": [
       "<Figure size 640x480 with 1 Axes>"
      ]
     },
     "metadata": {},
     "output_type": "display_data"
    },
    {
     "data": {
      "image/png": "[encoded data removed]",
      "text/plain": [
       "<Figure size 640x480 with 1 Axes>"
      ]
     },
     "metadata": {},
     "output_type": "display_data"
    },
    {
     "data": {
      "image/png": "[encoded data removed]",
      "text/plain": [
       "<Figure size 640x480 with 1 Axes>"
      ]
     },
     "metadata": {},
     "output_type": "display_data"
    }
   ],
   "source": [
    "for i in df_num.columns:\n",
    "    plt.hist(df_num[i])\n",
    "    plt.title(i)\n",
    "    plt.show()"
   ]
  },
  {
   "cell_type": "code",
   "execution_count": 9,
   "metadata": {
    "papermill": {
     "duration": 0.278012,
     "end_time": "2025-06-17T13:37:01.748217",
     "exception": false,
     "start_time": "2025-06-17T13:37:01.470205",
     "status": "completed"
    },
    "tags": []
   },
   "outputs": [
    {
     "name": "stderr",
     "output_type": "stream",
     "text": [
      "[2025-06-18 14:27:56] 数据型分析完毕\n"
     ]
    },
    {
     "name": "stdout",
     "output_type": "stream",
     "text": [
      "            Age     SibSp     Parch      Fare\n",
      "Age    1.000000 -0.308247 -0.189119  0.096067\n",
      "SibSp -0.308247  1.000000  0.414838  0.159651\n",
      "Parch -0.189119  0.414838  1.000000  0.216225\n",
      "Fare   0.096067  0.159651  0.216225  1.000000\n"
     ]
    },
    {
     "data": {
      "image/png": "[encoded data removed]",
      "text/plain": [
       "<Figure size 640x480 with 2 Axes>"
      ]
     },
     "metadata": {},
     "output_type": "display_data"
    }
   ],
   "source": [
    "print(df_num.corr())\n",
    "sns.heatmap(df_num.corr())\n",
    "logging.info(\"数据型分析完毕\")"
   ]
  },
  {
   "cell_type": "code",
   "execution_count": 10,
   "metadata": {
    "papermill": {
     "duration": 0.071067,
     "end_time": "2025-06-17T13:37:01.861545",
     "exception": false,
     "start_time": "2025-06-17T13:37:01.790478",
     "status": "completed"
    },
    "tags": []
   },
   "outputs": [
    {
     "data": {
      "text/html": [
       "<div>\n",
       "<style scoped>\n",
       "    .dataframe tbody tr th:only-of-type {\n",
       "        vertical-align: middle;\n",
       "    }\n",
       "\n",
       "    .dataframe tbody tr th {\n",
       "        vertical-align: top;\n",
       "    }\n",
       "\n",
       "    .dataframe thead th {\n",
       "        text-align: right;\n",
       "    }\n",
       "</style>\n",
       "<table border=\"1\" class=\"dataframe\">\n",
       "  <thead>\n",
       "    <tr style=\"text-align: right;\">\n",
       "      <th></th>\n",
       "      <th>Age</th>\n",
       "      <th>Fare</th>\n",
       "      <th>Parch</th>\n",
       "      <th>SibSp</th>\n",
       "    </tr>\n",
       "    <tr>\n",
       "      <th>Survived</th>\n",
       "      <th></th>\n",
       "      <th></th>\n",
       "      <th></th>\n",
       "      <th></th>\n",
       "    </tr>\n",
       "  </thead>\n",
       "  <tbody>\n",
       "    <tr>\n",
       "      <th>0</th>\n",
       "      <td>30.626179</td>\n",
       "      <td>22.117887</td>\n",
       "      <td>0.329690</td>\n",
       "      <td>0.553734</td>\n",
       "    </tr>\n",
       "    <tr>\n",
       "      <th>1</th>\n",
       "      <td>28.343690</td>\n",
       "      <td>48.395408</td>\n",
       "      <td>0.464912</td>\n",
       "      <td>0.473684</td>\n",
       "    </tr>\n",
       "  </tbody>\n",
       "</table>\n",
       "</div>"
      ],
      "text/plain": [
       "                Age       Fare     Parch     SibSp\n",
       "Survived                                          \n",
       "0         30.626179  22.117887  0.329690  0.553734\n",
       "1         28.343690  48.395408  0.464912  0.473684"
      ]
     },
     "execution_count": 10,
     "metadata": {},
     "output_type": "execute_result"
    }
   ],
   "source": [
    "pd.pivot_table(training, index = 'Survived', values = ['Age','SibSp','Parch','Fare'])"
   ]
  },
  {
   "cell_type": "markdown",
   "metadata": {
    "papermill": {
     "duration": 0.041933,
     "end_time": "2025-06-17T13:37:01.946681",
     "exception": false,
     "start_time": "2025-06-17T13:37:01.904748",
     "status": "completed"
    },
    "tags": []
   },
   "source": [
    "## 类别型"
   ]
  },
  {
   "cell_type": "code",
   "execution_count": 11,
   "metadata": {
    "papermill": {
     "duration": 9.577953,
     "end_time": "2025-06-17T13:37:11.566968",
     "exception": false,
     "start_time": "2025-06-17T13:37:01.989015",
     "status": "completed"
    },
    "tags": []
   },
   "outputs": [
    {
     "name": "stderr",
     "output_type": "stream",
     "text": [
      "[2025-06-18 14:27:56] Using categorical units to plot a list of strings that are all parsable as floats or dates. If these strings should be plotted as numbers, cast to the appropriate data type before plotting.\n",
      "[2025-06-18 14:27:56] Using categorical units to plot a list of strings that are all parsable as floats or dates. If these strings should be plotted as numbers, cast to the appropriate data type before plotting.\n"
     ]
    },
    {
     "data": {
      "image/png": "[encoded data removed]",
      "text/plain": [
       "<Figure size 640x480 with 1 Axes>"
      ]
     },
     "metadata": {},
     "output_type": "display_data"
    },
    {
     "name": "stderr",
     "output_type": "stream",
     "text": [
      "[2025-06-18 14:27:56] Using categorical units to plot a list of strings that are all parsable as floats or dates. If these strings should be plotted as numbers, cast to the appropriate data type before plotting.\n",
      "[2025-06-18 14:27:56] Using categorical units to plot a list of strings that are all parsable as floats or dates. If these strings should be plotted as numbers, cast to the appropriate data type before plotting.\n"
     ]
    },
    {
     "data": {
      "image/png": "[encoded data removed]",
      "text/plain": [
       "<Figure size 640x480 with 1 Axes>"
      ]
     },
     "metadata": {},
     "output_type": "display_data"
    },
    {
     "data": {
      "image/png": "[encoded data removed]",
      "text/plain": [
       "<Figure size 640x480 with 1 Axes>"
      ]
     },
     "metadata": {},
     "output_type": "display_data"
    },
    {
     "data": {
      "image/png": "[encoded data removed]",
      "text/plain": [
       "<Figure size 640x480 with 1 Axes>"
      ]
     },
     "metadata": {},
     "output_type": "display_data"
    },
    {
     "data": {
      "image/png": "[encoded data removed]",
      "text/plain": [
       "<Figure size 640x480 with 1 Axes>"
      ]
     },
     "metadata": {},
     "output_type": "display_data"
    },
    {
     "data": {
      "image/png": "[encoded data removed]",
      "text/plain": [
       "<Figure size 640x480 with 1 Axes>"
      ]
     },
     "metadata": {},
     "output_type": "display_data"
    }
   ],
   "source": [
    "for i in df_cat.columns:\n",
    "    sns.barplot(df_cat[i].value_counts()).set_title(i)\n",
    "    plt.show()"
   ]
  },
  {
   "cell_type": "code",
   "execution_count": 12,
   "metadata": {
    "papermill": {
     "duration": 0.09912,
     "end_time": "2025-06-17T13:37:11.712728",
     "exception": false,
     "start_time": "2025-06-17T13:37:11.613608",
     "status": "completed"
    },
    "tags": []
   },
   "outputs": [
    {
     "name": "stderr",
     "output_type": "stream",
     "text": [
      "[2025-06-18 14:28:02] 类别型分析完毕\n"
     ]
    },
    {
     "name": "stdout",
     "output_type": "stream",
     "text": [
      "Pclass      1   2    3\n",
      "Survived              \n",
      "0          80  97  372\n",
      "1         136  87  119\n",
      "\n",
      "Sex       female  male\n",
      "Survived              \n",
      "0             81   468\n",
      "1            233   109\n",
      "\n",
      "Embarked   C   Q    S\n",
      "Survived             \n",
      "0         75  47  427\n",
      "1         93  30  217\n"
     ]
    }
   ],
   "source": [
    "print(pd.pivot_table(training, index = 'Survived', columns = 'Pclass', values = 'Ticket' ,aggfunc ='count'))\n",
    "print()\n",
    "print(pd.pivot_table(training, index = 'Survived', columns = 'Sex', values = 'Ticket' ,aggfunc ='count'))\n",
    "print()\n",
    "print(pd.pivot_table(training, index = 'Survived', columns = 'Embarked', values = 'Ticket' ,aggfunc ='count'))\n",
    "logging.info(\"类别型分析完毕\")"
   ]
  },
  {
   "cell_type": "markdown",
   "metadata": {
    "papermill": {
     "duration": 0.045386,
     "end_time": "2025-06-17T13:37:11.804627",
     "exception": false,
     "start_time": "2025-06-17T13:37:11.759241",
     "status": "completed"
    },
    "tags": []
   },
   "source": [
    "## 特征工程"
   ]
  },
  {
   "cell_type": "markdown",
   "metadata": {
    "papermill": {
     "duration": 0.046104,
     "end_time": "2025-06-17T13:37:11.896622",
     "exception": false,
     "start_time": "2025-06-17T13:37:11.850518",
     "status": "completed"
    },
    "tags": []
   },
   "source": [
    "### Cabin字母"
   ]
  },
  {
   "cell_type": "code",
   "execution_count": 13,
   "metadata": {
    "papermill": {
     "duration": 0.055175,
     "end_time": "2025-06-17T13:37:11.997981",
     "exception": false,
     "start_time": "2025-06-17T13:37:11.942806",
     "status": "completed"
    },
    "tags": []
   },
   "outputs": [],
   "source": [
    "training['cabin_adv'] = training.Cabin.apply(lambda x: str(x)[0])\n"
   ]
  },
  {
   "cell_type": "code",
   "execution_count": 14,
   "metadata": {
    "papermill": {
     "duration": 0.0779,
     "end_time": "2025-06-17T13:37:12.121674",
     "exception": false,
     "start_time": "2025-06-17T13:37:12.043774",
     "status": "completed"
    },
    "tags": []
   },
   "outputs": [
    {
     "name": "stdout",
     "output_type": "stream",
     "text": [
      "cabin_adv\n",
      "n    687\n",
      "C     59\n",
      "B     47\n",
      "D     33\n",
      "E     32\n",
      "A     15\n",
      "F     13\n",
      "G      4\n",
      "T      1\n",
      "Name: count, dtype: int64\n"
     ]
    },
    {
     "data": {
      "text/html": [
       "<div>\n",
       "<style scoped>\n",
       "    .dataframe tbody tr th:only-of-type {\n",
       "        vertical-align: middle;\n",
       "    }\n",
       "\n",
       "    .dataframe tbody tr th {\n",
       "        vertical-align: top;\n",
       "    }\n",
       "\n",
       "    .dataframe thead th {\n",
       "        text-align: right;\n",
       "    }\n",
       "</style>\n",
       "<table border=\"1\" class=\"dataframe\">\n",
       "  <thead>\n",
       "    <tr style=\"text-align: right;\">\n",
       "      <th>cabin_adv</th>\n",
       "      <th>A</th>\n",
       "      <th>B</th>\n",
       "      <th>C</th>\n",
       "      <th>D</th>\n",
       "      <th>E</th>\n",
       "      <th>F</th>\n",
       "      <th>G</th>\n",
       "      <th>T</th>\n",
       "      <th>n</th>\n",
       "    </tr>\n",
       "    <tr>\n",
       "      <th>Survived</th>\n",
       "      <th></th>\n",
       "      <th></th>\n",
       "      <th></th>\n",
       "      <th></th>\n",
       "      <th></th>\n",
       "      <th></th>\n",
       "      <th></th>\n",
       "      <th></th>\n",
       "      <th></th>\n",
       "    </tr>\n",
       "  </thead>\n",
       "  <tbody>\n",
       "    <tr>\n",
       "      <th>0</th>\n",
       "      <td>8.0</td>\n",
       "      <td>12.0</td>\n",
       "      <td>24.0</td>\n",
       "      <td>8.0</td>\n",
       "      <td>8.0</td>\n",
       "      <td>5.0</td>\n",
       "      <td>2.0</td>\n",
       "      <td>1.0</td>\n",
       "      <td>481.0</td>\n",
       "    </tr>\n",
       "    <tr>\n",
       "      <th>1</th>\n",
       "      <td>7.0</td>\n",
       "      <td>35.0</td>\n",
       "      <td>35.0</td>\n",
       "      <td>25.0</td>\n",
       "      <td>24.0</td>\n",
       "      <td>8.0</td>\n",
       "      <td>2.0</td>\n",
       "      <td>NaN</td>\n",
       "      <td>206.0</td>\n",
       "    </tr>\n",
       "  </tbody>\n",
       "</table>\n",
       "</div>"
      ],
      "text/plain": [
       "cabin_adv    A     B     C     D     E    F    G    T      n\n",
       "Survived                                                    \n",
       "0          8.0  12.0  24.0   8.0   8.0  5.0  2.0  1.0  481.0\n",
       "1          7.0  35.0  35.0  25.0  24.0  8.0  2.0  NaN  206.0"
      ]
     },
     "execution_count": 14,
     "metadata": {},
     "output_type": "execute_result"
    }
   ],
   "source": [
    "print(training.cabin_adv.value_counts())\n",
    "pd.pivot_table(training,index='Survived',columns='cabin_adv', values = 'Name', aggfunc='count')"
   ]
  },
  {
   "cell_type": "code",
   "execution_count": 15,
   "metadata": {
    "papermill": {
     "duration": 0.060339,
     "end_time": "2025-06-17T13:37:12.230269",
     "exception": false,
     "start_time": "2025-06-17T13:37:12.169930",
     "status": "completed"
    },
    "tags": []
   },
   "outputs": [
    {
     "data": {
      "text/plain": [
       "cabin_multiple\n",
       "0    687\n",
       "1    180\n",
       "2     16\n",
       "3      6\n",
       "4      2\n",
       "Name: count, dtype: int64"
      ]
     },
     "execution_count": 15,
     "metadata": {},
     "output_type": "execute_result"
    }
   ],
   "source": [
    "df_cat.Cabin\n",
    "training['cabin_multiple'] = training.Cabin.apply(lambda x: 0 if pd.isna(x) else len(x.split(' ')))\n",
    "training['cabin_multiple'].value_counts()"
   ]
  },
  {
   "cell_type": "code",
   "execution_count": 16,
   "metadata": {
    "papermill": {
     "duration": 0.074256,
     "end_time": "2025-06-17T13:37:12.352027",
     "exception": false,
     "start_time": "2025-06-17T13:37:12.277771",
     "status": "completed"
    },
    "tags": []
   },
   "outputs": [
    {
     "data": {
      "text/html": [
       "<div>\n",
       "<style scoped>\n",
       "    .dataframe tbody tr th:only-of-type {\n",
       "        vertical-align: middle;\n",
       "    }\n",
       "\n",
       "    .dataframe tbody tr th {\n",
       "        vertical-align: top;\n",
       "    }\n",
       "\n",
       "    .dataframe thead th {\n",
       "        text-align: right;\n",
       "    }\n",
       "</style>\n",
       "<table border=\"1\" class=\"dataframe\">\n",
       "  <thead>\n",
       "    <tr style=\"text-align: right;\">\n",
       "      <th>cabin_multiple</th>\n",
       "      <th>0</th>\n",
       "      <th>1</th>\n",
       "      <th>2</th>\n",
       "      <th>3</th>\n",
       "      <th>4</th>\n",
       "    </tr>\n",
       "    <tr>\n",
       "      <th>Survived</th>\n",
       "      <th></th>\n",
       "      <th></th>\n",
       "      <th></th>\n",
       "      <th></th>\n",
       "      <th></th>\n",
       "    </tr>\n",
       "  </thead>\n",
       "  <tbody>\n",
       "    <tr>\n",
       "      <th>0</th>\n",
       "      <td>481.0</td>\n",
       "      <td>58.0</td>\n",
       "      <td>7.0</td>\n",
       "      <td>3.0</td>\n",
       "      <td>NaN</td>\n",
       "    </tr>\n",
       "    <tr>\n",
       "      <th>1</th>\n",
       "      <td>206.0</td>\n",
       "      <td>122.0</td>\n",
       "      <td>9.0</td>\n",
       "      <td>3.0</td>\n",
       "      <td>2.0</td>\n",
       "    </tr>\n",
       "  </tbody>\n",
       "</table>\n",
       "</div>"
      ],
      "text/plain": [
       "cabin_multiple      0      1    2    3    4\n",
       "Survived                                   \n",
       "0               481.0   58.0  7.0  3.0  NaN\n",
       "1               206.0  122.0  9.0  3.0  2.0"
      ]
     },
     "execution_count": 16,
     "metadata": {},
     "output_type": "execute_result"
    }
   ],
   "source": [
    "pd.pivot_table(training, index = 'Survived', columns = 'cabin_multiple', values = 'Ticket' ,aggfunc ='count')"
   ]
  },
  {
   "cell_type": "markdown",
   "metadata": {
    "papermill": {
     "duration": 0.04748,
     "end_time": "2025-06-17T13:37:12.451052",
     "exception": false,
     "start_time": "2025-06-17T13:37:12.403572",
     "status": "completed"
    },
    "tags": []
   },
   "source": [
    "### ticket"
   ]
  },
  {
   "cell_type": "code",
   "execution_count": 17,
   "metadata": {
    "papermill": {
     "duration": 0.060233,
     "end_time": "2025-06-17T13:37:12.558453",
     "exception": false,
     "start_time": "2025-06-17T13:37:12.498220",
     "status": "completed"
    },
    "tags": []
   },
   "outputs": [],
   "source": [
    "training['numeric_ticket'] = training.Ticket.apply(lambda x: 1 if x.isnumeric() else 0)\n",
    "training['ticket_letters'] = training.Ticket.apply(lambda x: ''.join(x.split(' ')[:-1]).replace('.','').replace('/','').lower() if len(x.split(' ')[:-1]) >0 else 0)\n"
   ]
  },
  {
   "cell_type": "code",
   "execution_count": 18,
   "metadata": {
    "papermill": {
     "duration": 0.076516,
     "end_time": "2025-06-17T13:37:12.682451",
     "exception": false,
     "start_time": "2025-06-17T13:37:12.605935",
     "status": "completed"
    },
    "tags": []
   },
   "outputs": [
    {
     "data": {
      "text/html": [
       "<div>\n",
       "<style scoped>\n",
       "    .dataframe tbody tr th:only-of-type {\n",
       "        vertical-align: middle;\n",
       "    }\n",
       "\n",
       "    .dataframe tbody tr th {\n",
       "        vertical-align: top;\n",
       "    }\n",
       "\n",
       "    .dataframe thead th {\n",
       "        text-align: right;\n",
       "    }\n",
       "</style>\n",
       "<table border=\"1\" class=\"dataframe\">\n",
       "  <thead>\n",
       "    <tr style=\"text-align: right;\">\n",
       "      <th>Pclass</th>\n",
       "      <th>1</th>\n",
       "      <th>2</th>\n",
       "      <th>3</th>\n",
       "    </tr>\n",
       "    <tr>\n",
       "      <th>numeric_ticket</th>\n",
       "      <th></th>\n",
       "      <th></th>\n",
       "      <th></th>\n",
       "    </tr>\n",
       "  </thead>\n",
       "  <tbody>\n",
       "    <tr>\n",
       "      <th>0</th>\n",
       "      <td>64</td>\n",
       "      <td>57</td>\n",
       "      <td>109</td>\n",
       "    </tr>\n",
       "    <tr>\n",
       "      <th>1</th>\n",
       "      <td>152</td>\n",
       "      <td>127</td>\n",
       "      <td>382</td>\n",
       "    </tr>\n",
       "  </tbody>\n",
       "</table>\n",
       "</div>"
      ],
      "text/plain": [
       "Pclass            1    2    3\n",
       "numeric_ticket               \n",
       "0                64   57  109\n",
       "1               152  127  382"
      ]
     },
     "execution_count": 18,
     "metadata": {},
     "output_type": "execute_result"
    }
   ],
   "source": [
    "training['numeric_ticket'].value_counts()\n",
    "pd.crosstab(training['numeric_ticket'], training['Pclass'])"
   ]
  },
  {
   "cell_type": "code",
   "execution_count": 19,
   "metadata": {
    "papermill": {
     "duration": 0.071271,
     "end_time": "2025-06-17T13:37:12.801970",
     "exception": false,
     "start_time": "2025-06-17T13:37:12.730699",
     "status": "completed"
    },
    "tags": []
   },
   "outputs": [
    {
     "data": {
      "text/html": [
       "<div>\n",
       "<style scoped>\n",
       "    .dataframe tbody tr th:only-of-type {\n",
       "        vertical-align: middle;\n",
       "    }\n",
       "\n",
       "    .dataframe tbody tr th {\n",
       "        vertical-align: top;\n",
       "    }\n",
       "\n",
       "    .dataframe thead th {\n",
       "        text-align: right;\n",
       "    }\n",
       "</style>\n",
       "<table border=\"1\" class=\"dataframe\">\n",
       "  <thead>\n",
       "    <tr style=\"text-align: right;\">\n",
       "      <th>numeric_ticket</th>\n",
       "      <th>0</th>\n",
       "      <th>1</th>\n",
       "    </tr>\n",
       "    <tr>\n",
       "      <th>Survived</th>\n",
       "      <th></th>\n",
       "      <th></th>\n",
       "    </tr>\n",
       "  </thead>\n",
       "  <tbody>\n",
       "    <tr>\n",
       "      <th>0</th>\n",
       "      <td>142</td>\n",
       "      <td>407</td>\n",
       "    </tr>\n",
       "    <tr>\n",
       "      <th>1</th>\n",
       "      <td>88</td>\n",
       "      <td>254</td>\n",
       "    </tr>\n",
       "  </tbody>\n",
       "</table>\n",
       "</div>"
      ],
      "text/plain": [
       "numeric_ticket    0    1\n",
       "Survived                \n",
       "0               142  407\n",
       "1                88  254"
      ]
     },
     "execution_count": 19,
     "metadata": {},
     "output_type": "execute_result"
    }
   ],
   "source": [
    "pd.pivot_table(training,index='Survived',columns='numeric_ticket', values = 'Ticket', aggfunc='count')"
   ]
  },
  {
   "cell_type": "code",
   "execution_count": 20,
   "metadata": {
    "papermill": {
     "duration": 0.0606,
     "end_time": "2025-06-17T13:37:12.910723",
     "exception": false,
     "start_time": "2025-06-17T13:37:12.850123",
     "status": "completed"
    },
    "tags": []
   },
   "outputs": [
    {
     "data": {
      "text/plain": [
       "ticket_letters\n",
       "0            665\n",
       "pc            60\n",
       "ca            41\n",
       "a5            21\n",
       "stono2        18\n",
       "sotonoq       15\n",
       "scparis       11\n",
       "wc            10\n",
       "a4             7\n",
       "soc            6\n",
       "c              5\n",
       "fcc            5\n",
       "pp             3\n",
       "wep            3\n",
       "sopp           3\n",
       "ppp            2\n",
       "sotono2        2\n",
       "scah           2\n",
       "swpp           2\n",
       "sp             1\n",
       "sca4           1\n",
       "scow           1\n",
       "fa             1\n",
       "sop            1\n",
       "sc             1\n",
       "scahbasle      1\n",
       "as             1\n",
       "fc             1\n",
       "casoton        1\n",
       "Name: count, dtype: int64"
      ]
     },
     "execution_count": 20,
     "metadata": {},
     "output_type": "execute_result"
    }
   ],
   "source": [
    "pd.set_option(\"display.max_rows\", None)\n",
    "training['ticket_letters'].value_counts()\n"
   ]
  },
  {
   "cell_type": "code",
   "execution_count": 21,
   "metadata": {
    "papermill": {
     "duration": 0.09047,
     "end_time": "2025-06-17T13:37:13.049408",
     "exception": false,
     "start_time": "2025-06-17T13:37:12.958938",
     "status": "completed"
    },
    "tags": []
   },
   "outputs": [
    {
     "data": {
      "text/html": [
       "<div>\n",
       "<style scoped>\n",
       "    .dataframe tbody tr th:only-of-type {\n",
       "        vertical-align: middle;\n",
       "    }\n",
       "\n",
       "    .dataframe tbody tr th {\n",
       "        vertical-align: top;\n",
       "    }\n",
       "\n",
       "    .dataframe thead th {\n",
       "        text-align: right;\n",
       "    }\n",
       "</style>\n",
       "<table border=\"1\" class=\"dataframe\">\n",
       "  <thead>\n",
       "    <tr style=\"text-align: right;\">\n",
       "      <th>ticket_letters</th>\n",
       "      <th>0</th>\n",
       "      <th>a4</th>\n",
       "      <th>a5</th>\n",
       "      <th>as</th>\n",
       "      <th>c</th>\n",
       "      <th>ca</th>\n",
       "      <th>casoton</th>\n",
       "      <th>fa</th>\n",
       "      <th>fc</th>\n",
       "      <th>fcc</th>\n",
       "      <th>...</th>\n",
       "      <th>soc</th>\n",
       "      <th>sop</th>\n",
       "      <th>sopp</th>\n",
       "      <th>sotono2</th>\n",
       "      <th>sotonoq</th>\n",
       "      <th>sp</th>\n",
       "      <th>stono2</th>\n",
       "      <th>swpp</th>\n",
       "      <th>wc</th>\n",
       "      <th>wep</th>\n",
       "    </tr>\n",
       "    <tr>\n",
       "      <th>Survived</th>\n",
       "      <th></th>\n",
       "      <th></th>\n",
       "      <th></th>\n",
       "      <th></th>\n",
       "      <th></th>\n",
       "      <th></th>\n",
       "      <th></th>\n",
       "      <th></th>\n",
       "      <th></th>\n",
       "      <th></th>\n",
       "      <th></th>\n",
       "      <th></th>\n",
       "      <th></th>\n",
       "      <th></th>\n",
       "      <th></th>\n",
       "      <th></th>\n",
       "      <th></th>\n",
       "      <th></th>\n",
       "      <th></th>\n",
       "      <th></th>\n",
       "      <th></th>\n",
       "    </tr>\n",
       "  </thead>\n",
       "  <tbody>\n",
       "    <tr>\n",
       "      <th>0</th>\n",
       "      <td>410.0</td>\n",
       "      <td>7.0</td>\n",
       "      <td>19.0</td>\n",
       "      <td>1.0</td>\n",
       "      <td>3.0</td>\n",
       "      <td>27.0</td>\n",
       "      <td>1.0</td>\n",
       "      <td>1.0</td>\n",
       "      <td>1.0</td>\n",
       "      <td>1.0</td>\n",
       "      <td>...</td>\n",
       "      <td>5.0</td>\n",
       "      <td>1.0</td>\n",
       "      <td>3.0</td>\n",
       "      <td>2.0</td>\n",
       "      <td>13.0</td>\n",
       "      <td>1.0</td>\n",
       "      <td>10.0</td>\n",
       "      <td>NaN</td>\n",
       "      <td>9.0</td>\n",
       "      <td>2.0</td>\n",
       "    </tr>\n",
       "    <tr>\n",
       "      <th>1</th>\n",
       "      <td>255.0</td>\n",
       "      <td>NaN</td>\n",
       "      <td>2.0</td>\n",
       "      <td>NaN</td>\n",
       "      <td>2.0</td>\n",
       "      <td>14.0</td>\n",
       "      <td>NaN</td>\n",
       "      <td>NaN</td>\n",
       "      <td>NaN</td>\n",
       "      <td>4.0</td>\n",
       "      <td>...</td>\n",
       "      <td>1.0</td>\n",
       "      <td>NaN</td>\n",
       "      <td>NaN</td>\n",
       "      <td>NaN</td>\n",
       "      <td>2.0</td>\n",
       "      <td>NaN</td>\n",
       "      <td>8.0</td>\n",
       "      <td>2.0</td>\n",
       "      <td>1.0</td>\n",
       "      <td>1.0</td>\n",
       "    </tr>\n",
       "  </tbody>\n",
       "</table>\n",
       "<p>2 rows × 29 columns</p>\n",
       "</div>"
      ],
      "text/plain": [
       "ticket_letters      0   a4    a5   as    c    ca  casoton   fa   fc  fcc  ...  \\\n",
       "Survived                                                                  ...   \n",
       "0               410.0  7.0  19.0  1.0  3.0  27.0      1.0  1.0  1.0  1.0  ...   \n",
       "1               255.0  NaN   2.0  NaN  2.0  14.0      NaN  NaN  NaN  4.0  ...   \n",
       "\n",
       "ticket_letters  soc  sop  sopp  sotono2  sotonoq   sp  stono2  swpp   wc  wep  \n",
       "Survived                                                                       \n",
       "0               5.0  1.0   3.0      2.0     13.0  1.0    10.0   NaN  9.0  2.0  \n",
       "1               1.0  NaN   NaN      NaN      2.0  NaN     8.0   2.0  1.0  1.0  \n",
       "\n",
       "[2 rows x 29 columns]"
      ]
     },
     "execution_count": 21,
     "metadata": {},
     "output_type": "execute_result"
    }
   ],
   "source": [
    "pd.pivot_table(training,index='Survived',columns='ticket_letters', values = 'Ticket', aggfunc='count')"
   ]
  },
  {
   "cell_type": "markdown",
   "metadata": {
    "papermill": {
     "duration": 0.04836,
     "end_time": "2025-06-17T13:37:13.147104",
     "exception": false,
     "start_time": "2025-06-17T13:37:13.098744",
     "status": "completed"
    },
    "tags": []
   },
   "source": [
    "### Name"
   ]
  },
  {
   "cell_type": "code",
   "execution_count": 22,
   "metadata": {
    "papermill": {
     "duration": 0.060317,
     "end_time": "2025-06-17T13:37:13.258861",
     "exception": false,
     "start_time": "2025-06-17T13:37:13.198544",
     "status": "completed"
    },
    "tags": []
   },
   "outputs": [],
   "source": [
    "training.Name.head(50)\n",
    "training['name_title'] = training.Name.apply(lambda x: x.split(',')[1].split('.')[0].strip())"
   ]
  },
  {
   "cell_type": "code",
   "execution_count": 23,
   "metadata": {
    "papermill": {
     "duration": 0.063349,
     "end_time": "2025-06-17T13:37:13.371281",
     "exception": false,
     "start_time": "2025-06-17T13:37:13.307932",
     "status": "completed"
    },
    "tags": []
   },
   "outputs": [
    {
     "data": {
      "text/plain": [
       "name_title\n",
       "Mr              517\n",
       "Miss            182\n",
       "Mrs             125\n",
       "Master           40\n",
       "Dr                7\n",
       "Rev               6\n",
       "Col               2\n",
       "Mlle              2\n",
       "Major             2\n",
       "Ms                1\n",
       "Mme               1\n",
       "Don               1\n",
       "Lady              1\n",
       "Sir               1\n",
       "Capt              1\n",
       "the Countess      1\n",
       "Jonkheer          1\n",
       "Name: count, dtype: int64"
      ]
     },
     "execution_count": 23,
     "metadata": {},
     "output_type": "execute_result"
    }
   ],
   "source": [
    "training['name_title'].value_counts()\n"
   ]
  },
  {
   "cell_type": "code",
   "execution_count": 24,
   "metadata": {
    "papermill": {
     "duration": 0.066999,
     "end_time": "2025-06-17T13:37:13.488757",
     "exception": false,
     "start_time": "2025-06-17T13:37:13.421758",
     "status": "completed"
    },
    "tags": []
   },
   "outputs": [
    {
     "data": {
      "text/plain": [
       "Sex     Pclass  name_title  \n",
       "female  1       Dr              49.0\n",
       "                Lady            48.0\n",
       "                Miss            30.0\n",
       "                Mlle            24.0\n",
       "                Mme             24.0\n",
       "                Mrs             41.5\n",
       "                the Countess    33.0\n",
       "        2       Miss            24.0\n",
       "                Mrs             32.0\n",
       "                Ms              28.0\n",
       "        3       Miss            18.0\n",
       "                Mrs             31.0\n",
       "male    1       Capt            70.0\n",
       "                Col             58.0\n",
       "                Don             40.0\n",
       "                Dr              44.0\n",
       "                Jonkheer        38.0\n",
       "                Major           48.5\n",
       "                Master           4.0\n",
       "                Mr              40.0\n",
       "                Sir             49.0\n",
       "        2       Dr              38.5\n",
       "                Master           1.0\n",
       "                Mr              31.0\n",
       "                Rev             46.5\n",
       "        3       Master           4.0\n",
       "                Mr              26.0\n",
       "Name: Age, dtype: float64"
      ]
     },
     "execution_count": 24,
     "metadata": {},
     "output_type": "execute_result"
    }
   ],
   "source": [
    "grouped = training.groupby(['Sex','Pclass','name_title'])\n",
    "grouped['Age'].median()"
   ]
  },
  {
   "cell_type": "code",
   "execution_count": 25,
   "metadata": {
    "papermill": {
     "duration": 0.090146,
     "end_time": "2025-06-17T13:37:13.628717",
     "exception": false,
     "start_time": "2025-06-17T13:37:13.538571",
     "status": "completed"
    },
    "tags": []
   },
   "outputs": [
    {
     "name": "stdout",
     "output_type": "stream",
     "text": [
      "<class 'pandas.core.frame.DataFrame'>\n",
      "Index: 1309 entries, 0 to 417\n",
      "Data columns (total 13 columns):\n",
      " #   Column       Non-Null Count  Dtype  \n",
      "---  ------       --------------  -----  \n",
      " 0   PassengerId  1309 non-null   int64  \n",
      " 1   Survived     891 non-null    float64\n",
      " 2   Pclass       1309 non-null   int64  \n",
      " 3   Name         1309 non-null   object \n",
      " 4   Sex          1309 non-null   object \n",
      " 5   Age          1309 non-null   float64\n",
      " 6   SibSp        1309 non-null   int64  \n",
      " 7   Parch        1309 non-null   int64  \n",
      " 8   Ticket       1309 non-null   object \n",
      " 9   Fare         1308 non-null   float64\n",
      " 10  Cabin        295 non-null    object \n",
      " 11  Embarked     1307 non-null   object \n",
      " 12  train_test   1309 non-null   int64  \n",
      "dtypes: float64(3), int64(5), object(5)\n",
      "memory usage: 143.2+ KB\n"
     ]
    }
   ],
   "source": [
    "all_data['Age'] = grouped['Age'].transform(lambda x: x.fillna(x.median()))\n",
    "all_data.info()"
   ]
  },
  {
   "cell_type": "code",
   "execution_count": 26,
   "metadata": {
    "papermill": {
     "duration": 0.076258,
     "end_time": "2025-06-17T13:37:13.755505",
     "exception": false,
     "start_time": "2025-06-17T13:37:13.679247",
     "status": "completed"
    },
    "tags": []
   },
   "outputs": [
    {
     "name": "stdout",
     "output_type": "stream",
     "text": [
      "<class 'pandas.core.frame.DataFrame'>\n",
      "Index: 1309 entries, 0 to 417\n",
      "Data columns (total 13 columns):\n",
      " #   Column       Non-Null Count  Dtype  \n",
      "---  ------       --------------  -----  \n",
      " 0   PassengerId  1309 non-null   int64  \n",
      " 1   Survived     891 non-null    float64\n",
      " 2   Pclass       1309 non-null   int64  \n",
      " 3   Name         1309 non-null   object \n",
      " 4   Sex          1309 non-null   object \n",
      " 5   Age          1309 non-null   float64\n",
      " 6   SibSp        1309 non-null   int64  \n",
      " 7   Parch        1309 non-null   int64  \n",
      " 8   Ticket       1309 non-null   object \n",
      " 9   Fare         1309 non-null   float64\n",
      " 10  Cabin        295 non-null    object \n",
      " 11  Embarked     1307 non-null   object \n",
      " 12  train_test   1309 non-null   int64  \n",
      "dtypes: float64(3), int64(5), object(5)\n",
      "memory usage: 143.2+ KB\n"
     ]
    }
   ],
   "source": [
    "all_data['Fare'] = grouped['Fare'].transform(lambda x: x.fillna(x.median()))\n",
    "all_data.info()"
   ]
  },
  {
   "cell_type": "code",
   "execution_count": 27,
   "metadata": {
    "papermill": {
     "duration": 0.076,
     "end_time": "2025-06-17T13:37:13.882934",
     "exception": false,
     "start_time": "2025-06-17T13:37:13.806934",
     "status": "completed"
    },
    "tags": []
   },
   "outputs": [],
   "source": [
    "\n",
    "all_data['cabin_multiple'] = all_data.Cabin.apply(lambda x: 0 if pd.isna(x) else len(x.split(' ')))\n",
    "all_data['cabin_adv'] = all_data.Cabin.apply(lambda x: str(x)[0])\n",
    "all_data['numeric_ticket'] = all_data.Ticket.apply(lambda x: 1 if x.isnumeric() else 0)\n",
    "all_data['ticket_letters'] = all_data.Ticket.apply(lambda x: ''.join(x.split(' ')[:-1]).replace('.','').replace('/','').lower() if len(x.split(' ')[:-1]) >0 else 0)\n",
    "all_data['name_title'] = all_data.Name.apply(lambda x: x.split(',')[1].split('.')[0].strip())\n",
    "\n",
    "\n",
    "#drop null 'embarked' rows. Only 2 instances of this in training and 0 in test \n",
    "all_data.dropna(subset=['Embarked'],inplace = True)\n",
    "\n",
    "\n"
   ]
  },
  {
   "cell_type": "code",
   "execution_count": 28,
   "metadata": {
    "papermill": {
     "duration": 0.22662,
     "end_time": "2025-06-17T13:37:14.261712",
     "exception": false,
     "start_time": "2025-06-17T13:37:14.035092",
     "status": "completed"
    },
    "tags": []
   },
   "outputs": [
    {
     "data": {
      "text/plain": [
       "<Axes: >"
      ]
     },
     "execution_count": 28,
     "metadata": {},
     "output_type": "execute_result"
    },
    {
     "data": {
      "image/png": "[encoded data removed]",
      "text/plain": [
       "<Figure size 640x480 with 1 Axes>"
      ]
     },
     "metadata": {},
     "output_type": "display_data"
    }
   ],
   "source": [
    "\n",
    "all_data['norm_fare'] = np.log(all_data.Fare+1)\n",
    "all_data['norm_fare'].hist()"
   ]
  },
  {
   "cell_type": "code",
   "execution_count": 29,
   "metadata": {
    "papermill": {
     "duration": 0.280604,
     "end_time": "2025-06-17T13:37:14.604008",
     "exception": false,
     "start_time": "2025-06-17T13:37:14.323404",
     "status": "completed"
    },
    "tags": []
   },
   "outputs": [
    {
     "data": {
      "text/plain": [
       "<Axes: >"
      ]
     },
     "execution_count": 29,
     "metadata": {},
     "output_type": "execute_result"
    },
    {
     "data": {
      "image/png": "[encoded data removed]",
      "text/plain": [
       "<Figure size 640x480 with 1 Axes>"
      ]
     },
     "metadata": {},
     "output_type": "display_data"
    }
   ],
   "source": [
    "all_data['norm_sibsp'] = np.log(all_data.SibSp+1)\n",
    "all_data['norm_sibsp'].hist()"
   ]
  },
  {
   "cell_type": "code",
   "execution_count": 30,
   "metadata": {
    "papermill": {
     "duration": 0.111925,
     "end_time": "2025-06-17T13:37:14.776335",
     "exception": false,
     "start_time": "2025-06-17T13:37:14.664410",
     "status": "completed"
    },
    "tags": []
   },
   "outputs": [
    {
     "data": {
      "text/plain": [
       "(889,)"
      ]
     },
     "execution_count": 30,
     "metadata": {},
     "output_type": "execute_result"
    }
   ],
   "source": [
    "\n",
    "all_data.Pclass = all_data.Pclass.astype(str)\n",
    "all_dummies = pd.get_dummies(all_data[['Pclass','Sex','Age','SibSp','Parch','norm_fare','Embarked','cabin_adv','cabin_multiple','numeric_ticket','name_title','train_test']])\n",
    "\n",
    "#Split to train test again\n",
    "X_train = all_dummies[all_dummies.train_test == 1].drop(['train_test'], axis =1)\n",
    "X_test = all_dummies[all_dummies.train_test == 0].drop(['train_test'], axis =1)\n",
    "\n",
    "\n",
    "y_train = all_data[all_data.train_test==1].Survived\n",
    "y_train.shape"
   ]
  },
  {
   "cell_type": "code",
   "execution_count": 31,
   "metadata": {
    "papermill": {
     "duration": 0.16696,
     "end_time": "2025-06-17T13:37:15.010690",
     "exception": false,
     "start_time": "2025-06-17T13:37:14.843730",
     "status": "completed"
    },
    "tags": []
   },
   "outputs": [
    {
     "name": "stderr",
     "output_type": "stream",
     "text": [
      "[2025-06-18 14:28:03] 数据预处理完毕\n"
     ]
    }
   ],
   "source": [
    " from sklearn.preprocessing import StandardScaler\n",
    "scale = StandardScaler()\n",
    "all_dummies_scaled = all_dummies.copy()\n",
    "all_dummies_scaled[['Age','SibSp','Parch','norm_fare']]= scale.fit_transform(all_dummies_scaled[['Age','SibSp','Parch','norm_fare']])\n",
    "all_dummies_scaled\n",
    "\n",
    "X_train_scaled = all_dummies_scaled[all_dummies_scaled.train_test == 1].drop(['train_test'], axis =1)\n",
    "X_test_scaled = all_dummies_scaled[all_dummies_scaled.train_test == 0].drop(['train_test'], axis =1)\n",
    "\n",
    "y_train = all_data[all_data.train_test==1].Survived\n",
    "logging. info(\"数据预处理完毕\")\n"
   ]
  },
  {
   "cell_type": "markdown",
   "metadata": {
    "papermill": {
     "duration": 0.052177,
     "end_time": "2025-06-17T13:37:15.127329",
     "exception": false,
     "start_time": "2025-06-17T13:37:15.075152",
     "status": "completed"
    },
    "tags": []
   },
   "source": [
    "# 数据建模:交叉验证初步预测"
   ]
  },
  {
   "cell_type": "code",
   "execution_count": 32,
   "metadata": {
    "papermill": {
     "duration": 0.635667,
     "end_time": "2025-06-17T13:37:15.817536",
     "exception": false,
     "start_time": "2025-06-17T13:37:15.181869",
     "status": "completed"
    },
    "tags": []
   },
   "outputs": [],
   "source": [
    "from sklearn.model_selection import cross_val_score\n",
    "from sklearn.naive_bayes import GaussianNB\n",
    "from sklearn.linear_model import LogisticRegression\n",
    "from sklearn import tree\n",
    "from sklearn.neighbors import KNeighborsClassifier\n",
    "from sklearn.ensemble import RandomForestClassifier\n",
    "from sklearn.svm import SVC\n",
    "from sklearn.model_selection import GridSearchCV\n"
   ]
  },
  {
   "cell_type": "code",
   "execution_count": 33,
   "metadata": {
    "papermill": {
     "duration": 0.098707,
     "end_time": "2025-06-17T13:37:15.968746",
     "exception": false,
     "start_time": "2025-06-17T13:37:15.870039",
     "status": "completed"
    },
    "tags": []
   },
   "outputs": [
    {
     "name": "stdout",
     "output_type": "stream",
     "text": [
      "[0.66853933 0.70224719 0.75842697 0.74719101 0.73446328]\n",
      "0.7221735542436362\n"
     ]
    }
   ],
   "source": [
    "gnb = GaussianNB()\n",
    "cv = cross_val_score(gnb,X_train_scaled,y_train,cv=5)\n",
    "print(cv)\n",
    "print(cv.mean())"
   ]
  },
  {
   "cell_type": "code",
   "execution_count": 34,
   "metadata": {
    "papermill": {
     "duration": 0.60472,
     "end_time": "2025-06-17T13:37:16.626972",
     "exception": false,
     "start_time": "2025-06-17T13:37:16.022252",
     "status": "completed"
    },
    "tags": []
   },
   "outputs": [
    {
     "name": "stdout",
     "output_type": "stream",
     "text": [
      "[0.8258427  0.82022472 0.80337079 0.82022472 0.86440678]\n",
      "0.8268139402018664\n"
     ]
    }
   ],
   "source": [
    "lr = LogisticRegression(max_iter = 2000)\n",
    "cv = cross_val_score(lr,X_train,y_train,cv=5)\n",
    "print(cv)\n",
    "print(cv.mean())"
   ]
  },
  {
   "cell_type": "code",
   "execution_count": 35,
   "metadata": {
    "papermill": {
     "duration": 0.205598,
     "end_time": "2025-06-17T13:37:16.885520",
     "exception": false,
     "start_time": "2025-06-17T13:37:16.679922",
     "status": "completed"
    },
    "tags": []
   },
   "outputs": [
    {
     "name": "stdout",
     "output_type": "stream",
     "text": [
      "[0.8258427  0.82022472 0.80337079 0.82022472 0.86440678]\n",
      "0.8268139402018664\n"
     ]
    }
   ],
   "source": [
    "lr = LogisticRegression(max_iter = 2000)\n",
    "cv = cross_val_score(lr,X_train_scaled,y_train,cv=5)\n",
    "print(cv)\n",
    "print(cv.mean())"
   ]
  },
  {
   "cell_type": "code",
   "execution_count": 36,
   "metadata": {
    "papermill": {
     "duration": 0.113695,
     "end_time": "2025-06-17T13:37:17.053049",
     "exception": false,
     "start_time": "2025-06-17T13:37:16.939354",
     "status": "completed"
    },
    "tags": []
   },
   "outputs": [
    {
     "name": "stdout",
     "output_type": "stream",
     "text": [
      "[0.75842697 0.75280899 0.82022472 0.76404494 0.79096045]\n",
      "0.7772932139909858\n"
     ]
    }
   ],
   "source": [
    "dt = tree.DecisionTreeClassifier(random_state = 1)\n",
    "cv = cross_val_score(dt,X_train,y_train,cv=5)\n",
    "print(cv)\n",
    "print(cv.mean())"
   ]
  },
  {
   "cell_type": "code",
   "execution_count": 37,
   "metadata": {
    "papermill": {
     "duration": 0.110334,
     "end_time": "2025-06-17T13:37:17.216458",
     "exception": false,
     "start_time": "2025-06-17T13:37:17.106124",
     "status": "completed"
    },
    "tags": []
   },
   "outputs": [
    {
     "name": "stdout",
     "output_type": "stream",
     "text": [
      "[0.76404494 0.75280899 0.82022472 0.76404494 0.79096045]\n",
      "0.7784168094966037\n"
     ]
    }
   ],
   "source": [
    "dt = tree.DecisionTreeClassifier(random_state = 1)\n",
    "cv = cross_val_score(dt,X_train_scaled,y_train,cv=5)\n",
    "print(cv)\n",
    "print(cv.mean())"
   ]
  },
  {
   "cell_type": "code",
   "execution_count": 38,
   "metadata": {
    "papermill": {
     "duration": 0.151846,
     "end_time": "2025-06-17T13:37:17.426240",
     "exception": false,
     "start_time": "2025-06-17T13:37:17.274394",
     "status": "completed"
    },
    "tags": []
   },
   "outputs": [
    {
     "name": "stdout",
     "output_type": "stream",
     "text": [
      "[0.82022472 0.79213483 0.79213483 0.82022472 0.83615819]\n",
      "0.8121754586427983\n"
     ]
    }
   ],
   "source": [
    "knn = KNeighborsClassifier()\n",
    "cv = cross_val_score(knn,X_train,y_train,cv=5)\n",
    "print(cv)\n",
    "print(cv.mean())"
   ]
  },
  {
   "cell_type": "code",
   "execution_count": 39,
   "metadata": {
    "papermill": {
     "duration": 0.161628,
     "end_time": "2025-06-17T13:37:17.642174",
     "exception": false,
     "start_time": "2025-06-17T13:37:17.480546",
     "status": "completed"
    },
    "tags": []
   },
   "outputs": [
    {
     "name": "stdout",
     "output_type": "stream",
     "text": [
      "[0.81460674 0.78651685 0.82022472 0.80337079 0.83615819]\n",
      "0.8121754586427983\n"
     ]
    }
   ],
   "source": [
    "knn = KNeighborsClassifier()\n",
    "cv = cross_val_score(knn,X_train_scaled,y_train,cv=5)\n",
    "print(cv)\n",
    "print(cv.mean())"
   ]
  },
  {
   "cell_type": "code",
   "execution_count": 40,
   "metadata": {
    "papermill": {
     "duration": 1.109685,
     "end_time": "2025-06-17T13:37:18.806380",
     "exception": false,
     "start_time": "2025-06-17T13:37:17.696695",
     "status": "completed"
    },
    "tags": []
   },
   "outputs": [
    {
     "name": "stdout",
     "output_type": "stream",
     "text": [
      "[0.83146067 0.79775281 0.83707865 0.75842697 0.83615819]\n",
      "0.8121754586427983\n"
     ]
    }
   ],
   "source": [
    "rf = RandomForestClassifier(random_state = 1)\n",
    "cv = cross_val_score(rf,X_train,y_train,cv=5)\n",
    "print(cv)\n",
    "print(cv.mean())"
   ]
  },
  {
   "cell_type": "code",
   "execution_count": 41,
   "metadata": {
    "papermill": {
     "duration": 1.116414,
     "end_time": "2025-06-17T13:37:19.979248",
     "exception": false,
     "start_time": "2025-06-17T13:37:18.862834",
     "status": "completed"
    },
    "tags": []
   },
   "outputs": [
    {
     "name": "stdout",
     "output_type": "stream",
     "text": [
      "[0.83707865 0.79775281 0.83707865 0.75842697 0.83615819]\n",
      "0.8132990541484162\n"
     ]
    }
   ],
   "source": [
    "rf = RandomForestClassifier(random_state = 1)\n",
    "cv_rf = cross_val_score(rf,X_train_scaled,y_train,cv=5)\n",
    "print(cv_rf)\n",
    "print(cv_rf.mean())"
   ]
  },
  {
   "cell_type": "code",
   "execution_count": 42,
   "metadata": {
    "papermill": {
     "duration": 0.838404,
     "end_time": "2025-06-17T13:37:20.872033",
     "exception": false,
     "start_time": "2025-06-17T13:37:20.033629",
     "status": "completed"
    },
    "tags": []
   },
   "outputs": [
    {
     "name": "stdout",
     "output_type": "stream",
     "text": [
      "[0.83707865 0.82022472 0.8258427  0.80337079 0.85310734]\n",
      "0.8279248397130706\n"
     ]
    }
   ],
   "source": [
    "svc = SVC(probability = True)\n",
    "cv_svc = cross_val_score(svc,X_train_scaled,y_train,cv=5)\n",
    "print(cv_svc)\n",
    "print(cv_svc.mean())"
   ]
  },
  {
   "cell_type": "code",
   "execution_count": 43,
   "metadata": {
    "papermill": {
     "duration": 1.38956,
     "end_time": "2025-06-17T13:37:22.316522",
     "exception": false,
     "start_time": "2025-06-17T13:37:20.926962",
     "status": "completed"
    },
    "tags": []
   },
   "outputs": [
    {
     "name": "stdout",
     "output_type": "stream",
     "text": [
      "[0.82022472 0.79775281 0.85393258 0.79213483 0.83050847]\n",
      "0.8189106836792991\n"
     ]
    }
   ],
   "source": [
    "from xgboost import XGBClassifier\n",
    "xgb = XGBClassifier(random_state =1)\n",
    "cv_xgb = cross_val_score(xgb,X_train_scaled,y_train,cv=5)\n",
    "print(cv_xgb)\n",
    "print(cv_xgb.mean())"
   ]
  },
  {
   "cell_type": "code",
   "execution_count": 44,
   "metadata": {
    "papermill": {
     "duration": 0.101043,
     "end_time": "2025-06-17T13:37:22.499068",
     "exception": false,
     "start_time": "2025-06-17T13:37:22.398025",
     "status": "completed"
    },
    "tags": []
   },
   "outputs": [],
   "source": [
    "\n",
    "from sklearn.ensemble import VotingClassifier\n",
    "voting_clf = VotingClassifier(estimators = [('lr',lr),('knn',knn),('rf',rf),('gnb',gnb),('svc',svc),('xgb',xgb)], voting = 'soft') "
   ]
  },
  {
   "cell_type": "code",
   "execution_count": 45,
   "metadata": {
    "papermill": {
     "duration": 2.834236,
     "end_time": "2025-06-17T13:37:25.391505",
     "exception": false,
     "start_time": "2025-06-17T13:37:22.557269",
     "status": "completed"
    },
    "tags": []
   },
   "outputs": [
    {
     "name": "stdout",
     "output_type": "stream",
     "text": [
      "[0.8258427  0.81460674 0.83707865 0.79775281 0.84745763]\n",
      "0.8245477051990097\n"
     ]
    }
   ],
   "source": [
    "cv_voting = cross_val_score(voting_clf,X_train_scaled,y_train,cv=5)\n",
    "print(cv_voting)\n",
    "print(cv_voting.mean())"
   ]
  },
  {
   "cell_type": "code",
   "execution_count": 46,
   "metadata": {
    "papermill": {
     "duration": 0.771015,
     "end_time": "2025-06-17T13:37:26.245920",
     "exception": false,
     "start_time": "2025-06-17T13:37:25.474905",
     "status": "completed"
    },
    "tags": []
   },
   "outputs": [],
   "source": [
    "voting_clf.fit(X_train_scaled,y_train)\n",
    "y_hat_base_vc = voting_clf.predict(X_test_scaled).astype(int)\n",
    "basic_submission = {'PassengerId': test.PassengerId, 'Survived': y_hat_base_vc}\n",
    "base_submission = pd.DataFrame(data=basic_submission)\n",
    "base_submission.to_csv('base_submission.csv', index=False)"
   ]
  },
  {
   "cell_type": "code",
   "execution_count": 47,
   "metadata": {
    "papermill": {
     "duration": 0.091759,
     "end_time": "2025-06-17T13:37:26.419875",
     "exception": false,
     "start_time": "2025-06-17T13:37:26.328116",
     "status": "completed"
    },
    "tags": []
   },
   "outputs": [],
   "source": [
    "from sklearn.model_selection import GridSearchCV \n",
    "from sklearn.model_selection import RandomizedSearchCV "
   ]
  },
  {
   "cell_type": "code",
   "execution_count": 48,
   "metadata": {
    "papermill": {
     "duration": 0.067112,
     "end_time": "2025-06-17T13:37:26.545616",
     "exception": false,
     "start_time": "2025-06-17T13:37:26.478504",
     "status": "completed"
    },
    "tags": []
   },
   "outputs": [],
   "source": [
    "#simple performance reporting function\n",
    "def clf_performance(classifier, model_name):\n",
    "    print(model_name)\n",
    "    print('Best Score: ' + str(classifier.best_score_))\n",
    "    print('Best Parameters: ' + str(classifier.best_params_))"
   ]
  },
  {
   "cell_type": "markdown",
   "metadata": {},
   "source": [
    "# 训练+优化"
   ]
  },
  {
   "cell_type": "markdown",
   "metadata": {},
   "source": [
    "###  常规 LinearRegression无法迭代"
   ]
  },
  {
   "cell_type": "code",
   "execution_count": 50,
   "metadata": {
    "papermill": {
     "duration": 3.49018,
     "end_time": "2025-06-17T13:37:30.091709",
     "exception": false,
     "start_time": "2025-06-17T13:37:26.601529",
     "status": "completed"
    },
    "tags": []
   },
   "outputs": [
    {
     "name": "stderr",
     "output_type": "stream",
     "text": [
      "[2025-06-18 14:43:50] 开始逻辑回归模型的网格搜索调参\n"
     ]
    },
    {
     "name": "stdout",
     "output_type": "stream",
     "text": [
      "Fitting 5 folds for each of 40 candidates, totalling 200 fits\n"
     ]
    },
    {
     "name": "stderr",
     "output_type": "stream",
     "text": [
      "[2025-06-18 14:43:57] 最佳参数组合：{'C': np.float64(11.288378916846883), 'max_iter': 2000, 'penalty': 'l1', 'solver': 'liblinear'}\n",
      "[2025-06-18 14:43:57] 最佳交叉验证得分（准确率）：0.8246\n"
     ]
    },
    {
     "name": "stdout",
     "output_type": "stream",
     "text": [
      "Logistic Regression\n",
      "Best Score: 0.8245667491906303\n",
      "Best Parameters: {'C': np.float64(11.288378916846883), 'max_iter': 2000, 'penalty': 'l1', 'solver': 'liblinear'}\n"
     ]
    }
   ],
   "source": [
    "logging.info(\"开始逻辑回归模型的网格搜索调参\")\n",
    "\n",
    "lr = LogisticRegression()\n",
    "param_grid = {\n",
    "    'max_iter': [2000],\n",
    "    'penalty': ['l1', 'l2'],\n",
    "    'C': np.logspace(-4, 4, 20),\n",
    "    'solver': ['liblinear']\n",
    "}\n",
    "clf_lr = GridSearchCV(lr, param_grid=param_grid, cv=5, verbose=1, n_jobs=-1)\n",
    "\n",
    "best_clf_lr = clf_lr.fit(X_train_scaled, y_train)\n",
    "\n",
    "logging.info(f\"最佳参数组合：{best_clf_lr.best_params_}\")\n",
    "logging.info(f\"最佳交叉验证得分（准确率）：{best_clf_lr.best_score_:.4f}\")\n",
    "\n",
    "clf_performance(best_clf_lr, 'Logistic Regression')"
   ]
  },
  {
   "cell_type": "markdown",
   "metadata": {},
   "source": [
    "### KNN无法迭代"
   ]
  },
  {
   "cell_type": "code",
   "execution_count": 51,
   "metadata": {
    "papermill": {
     "duration": 2.083955,
     "end_time": "2025-06-17T13:37:33.593055",
     "exception": false,
     "start_time": "2025-06-17T13:37:31.509100",
     "status": "completed"
    },
    "tags": []
   },
   "outputs": [
    {
     "name": "stderr",
     "output_type": "stream",
     "text": [
      "[2025-06-18 14:43:57] 开始 KNN 模型的网格搜索调参\n"
     ]
    },
    {
     "name": "stdout",
     "output_type": "stream",
     "text": [
      "Fitting 5 folds for each of 48 candidates, totalling 240 fits\n"
     ]
    },
    {
     "name": "stderr",
     "output_type": "stream",
     "text": [
      "D:\\Anaconda\\envs\\mypandas\\lib\\site-packages\\numpy\\ma\\core.py:2881: RuntimeWarning: invalid value encountered in cast\n",
      "  _data = np.array(data, dtype=dtype, copy=copy,\n",
      "[2025-06-18 14:43:58] KNN 最佳参数组合：{'algorithm': 'auto', 'n_neighbors': 7, 'p': 2, 'weights': 'distance'}\n",
      "[2025-06-18 14:43:58] KNN 最佳交叉验证得分（准确率）：0.8200\n"
     ]
    },
    {
     "name": "stdout",
     "output_type": "stream",
     "text": [
      "KNN\n",
      "Best Score: 0.820034279184917\n",
      "Best Parameters: {'algorithm': 'auto', 'n_neighbors': 7, 'p': 2, 'weights': 'distance'}\n"
     ]
    }
   ],
   "source": [
    "logging.info(\"开始 KNN 模型的网格搜索调参\")\n",
    "\n",
    "knn = KNeighborsClassifier()\n",
    "param_grid = {\n",
    "    'n_neighbors': [3, 5, 7, 9],\n",
    "    'weights': ['uniform', 'distance'],\n",
    "    'algorithm': ['auto', 'ball_tree', 'kd_tree'],\n",
    "    'p': [1, 2]  # p=1 曼哈顿距离，p=2 欧几里得距离\n",
    "}\n",
    "\n",
    "clf_knn = GridSearchCV(knn, param_grid=param_grid, cv=5, verbose=1, n_jobs=-1)\n",
    "\n",
    "best_clf_knn = clf_knn.fit(X_train_scaled, y_train)\n",
    "\n",
    "logging.info(f\"KNN 最佳参数组合：{best_clf_knn.best_params_}\")\n",
    "logging.info(f\"KNN 最佳交叉验证得分（准确率）：{best_clf_knn.best_score_:.4f}\")\n",
    "\n",
    "clf_performance(best_clf_knn, 'KNN')"
   ]
  },
  {
   "cell_type": "markdown",
   "metadata": {},
   "source": [
    "### SVC无法迭代"
   ]
  },
  {
   "cell_type": "code",
   "execution_count": 52,
   "metadata": {
    "papermill": {
     "duration": 161.322516,
     "end_time": "2025-06-17T13:40:14.974831",
     "exception": false,
     "start_time": "2025-06-17T13:37:33.652315",
     "status": "completed"
    },
    "tags": []
   },
   "outputs": [
    {
     "name": "stderr",
     "output_type": "stream",
     "text": [
      "[2025-06-18 14:43:58]  开始 SVC 模型的网格搜索调参\n"
     ]
    },
    {
     "name": "stdout",
     "output_type": "stream",
     "text": [
      "Fitting 5 folds for each of 55 candidates, totalling 275 fits\n"
     ]
    },
    {
     "name": "stderr",
     "output_type": "stream",
     "text": [
      "D:\\Anaconda\\envs\\mypandas\\lib\\site-packages\\numpy\\ma\\core.py:2881: RuntimeWarning: invalid value encountered in cast\n",
      "  _data = np.array(data, dtype=dtype, copy=copy,\n",
      "[2025-06-18 14:46:40] SVC 最佳参数组合：{'C': 1, 'degree': 2, 'kernel': 'poly'}\n",
      "[2025-06-18 14:46:40] SVC 最佳交叉验证得分（准确率）：0.8313\n"
     ]
    },
    {
     "name": "stdout",
     "output_type": "stream",
     "text": [
      "SVC\n",
      "Best Score: 0.8313146702215451\n",
      "Best Parameters: {'C': 1, 'degree': 2, 'kernel': 'poly'}\n"
     ]
    }
   ],
   "source": [
    "logging.info(\" 开始 SVC 模型的网格搜索调参\")\n",
    "\n",
    "svc = SVC(probability=True)\n",
    "\n",
    "param_grid = [\n",
    "    {'kernel': ['rbf'], 'gamma': [.1, .5, 1, 2, 5, 10], 'C': [.1, 1, 10, 100, 1000]},\n",
    "    {'kernel': ['linear'], 'C': [.1, 1, 10, 100, 1000]},\n",
    "    {'kernel': ['poly'], 'degree': [2, 3, 4, 5], 'C': [.1, 1, 10, 100, 1000]}\n",
    "]\n",
    "\n",
    "clf_svc = GridSearchCV(svc, param_grid=param_grid, cv=5, verbose=1, n_jobs=-1)\n",
    "\n",
    "\n",
    "best_clf_svc = clf_svc.fit(X_train_scaled, y_train)\n",
    "\n",
    "logging.info(f\"SVC 最佳参数组合：{best_clf_svc.best_params_}\")\n",
    "logging.info(f\"SVC 最佳交叉验证得分（准确率）：{best_clf_svc.best_score_:.4f}\")\n",
    "\n",
    "clf_performance(best_clf_svc, 'SVC')"
   ]
  },
  {
   "cell_type": "code",
   "execution_count": 53,
   "metadata": {
    "papermill": {
     "duration": 0.086763,
     "end_time": "2025-06-17T13:40:15.123633",
     "exception": false,
     "start_time": "2025-06-17T13:40:15.036870",
     "status": "completed"
    },
    "tags": []
   },
   "outputs": [
    {
     "name": "stderr",
     "output_type": "stream",
     "text": [
      "[2025-06-18 14:46:40]  已保存 SVC 模型的预测结果到 svc_submission.csv\n"
     ]
    }
   ],
   "source": [
    "y_hat_svc = best_clf_svc.best_estimator_.predict(X_test_scaled).astype(int)\n",
    "\n",
    "svc_submission = {\n",
    "    'PassengerId': test.PassengerId,\n",
    "    'Survived': y_hat_svc\n",
    "}\n",
    "submission_svc = pd.DataFrame(data=svc_submission)\n",
    "submission_svc.to_csv('svc_submission1.csv', index=False)\n",
    "\n",
    "logging.info(\" 已保存 SVC 模型的预测结果到 svc_submission.csv\")\n"
   ]
  },
  {
   "cell_type": "markdown",
   "metadata": {},
   "source": [
    "### 随机森林非迭代"
   ]
  },
  {
   "cell_type": "code",
   "execution_count": 54,
   "metadata": {
    "papermill": {
     "duration": 600.942666,
     "end_time": "2025-06-17T13:50:16.128666",
     "exception": false,
     "start_time": "2025-06-17T13:40:15.186000",
     "status": "completed"
    },
    "tags": []
   },
   "outputs": [
    {
     "name": "stderr",
     "output_type": "stream",
     "text": [
      "[2025-06-18 14:46:40]  开始 Random Forest 模型的网格搜索调参\n"
     ]
    },
    {
     "name": "stdout",
     "output_type": "stream",
     "text": [
      "Fitting 5 folds for each of 288 candidates, totalling 1440 fits\n"
     ]
    },
    {
     "name": "stderr",
     "output_type": "stream",
     "text": [
      "D:\\Anaconda\\envs\\mypandas\\lib\\site-packages\\sklearn\\model_selection\\_validation.py:540: FitFailedWarning: \n",
      "480 fits failed out of a total of 1440.\n",
      "The score on these train-test partitions for these parameters will be set to nan.\n",
      "If these failures are not expected, you can try to debug them by setting error_score='raise'.\n",
      "\n",
      "Below are more details about the failures:\n",
      "--------------------------------------------------------------------------------\n",
      "211 fits failed with the following error:\n",
      "Traceback (most recent call last):\n",
      "  File \"D:\\Anaconda\\envs\\mypandas\\lib\\site-packages\\sklearn\\model_selection\\_validation.py\", line 888, in _fit_and_score\n",
      "    estimator.fit(X_train, y_train, **fit_params)\n",
      "  File \"D:\\Anaconda\\envs\\mypandas\\lib\\site-packages\\sklearn\\base.py\", line 1466, in wrapper\n",
      "    estimator._validate_params()\n",
      "  File \"D:\\Anaconda\\envs\\mypandas\\lib\\site-packages\\sklearn\\base.py\", line 666, in _validate_params\n",
      "    validate_parameter_constraints(\n",
      "  File \"D:\\Anaconda\\envs\\mypandas\\lib\\site-packages\\sklearn\\utils\\_param_validation.py\", line 95, in validate_parameter_constraints\n",
      "    raise InvalidParameterError(\n",
      "sklearn.utils._param_validation.InvalidParameterError: The 'max_features' parameter of RandomForestClassifier must be an int in the range [1, inf), a float in the range (0.0, 1.0], a str among {'log2', 'sqrt'} or None. Got 'auto' instead.\n",
      "\n",
      "--------------------------------------------------------------------------------\n",
      "269 fits failed with the following error:\n",
      "Traceback (most recent call last):\n",
      "  File \"D:\\Anaconda\\envs\\mypandas\\lib\\site-packages\\sklearn\\model_selection\\_validation.py\", line 888, in _fit_and_score\n",
      "    estimator.fit(X_train, y_train, **fit_params)\n",
      "  File \"D:\\Anaconda\\envs\\mypandas\\lib\\site-packages\\sklearn\\base.py\", line 1466, in wrapper\n",
      "    estimator._validate_params()\n",
      "  File \"D:\\Anaconda\\envs\\mypandas\\lib\\site-packages\\sklearn\\base.py\", line 666, in _validate_params\n",
      "    validate_parameter_constraints(\n",
      "  File \"D:\\Anaconda\\envs\\mypandas\\lib\\site-packages\\sklearn\\utils\\_param_validation.py\", line 95, in validate_parameter_constraints\n",
      "    raise InvalidParameterError(\n",
      "sklearn.utils._param_validation.InvalidParameterError: The 'max_features' parameter of RandomForestClassifier must be an int in the range [1, inf), a float in the range (0.0, 1.0], a str among {'sqrt', 'log2'} or None. Got 'auto' instead.\n",
      "\n",
      "  warnings.warn(some_fits_failed_message, FitFailedWarning)\n",
      "D:\\Anaconda\\envs\\mypandas\\lib\\site-packages\\numpy\\ma\\core.py:2881: RuntimeWarning: invalid value encountered in cast\n",
      "  _data = np.array(data, dtype=dtype, copy=copy,\n",
      "D:\\Anaconda\\envs\\mypandas\\lib\\site-packages\\sklearn\\model_selection\\_search.py:1103: UserWarning: One or more of the test scores are non-finite: [       nan        nan        nan        nan        nan        nan\n",
      "        nan        nan        nan        nan        nan        nan\n",
      "        nan        nan        nan        nan 0.83130197 0.83017838\n",
      " 0.83243192 0.83017838 0.83130197 0.83017838 0.83243192 0.83017838\n",
      " 0.8267949  0.82454136 0.8256713  0.82791849 0.8267949  0.82454136\n",
      " 0.8256713  0.82791849 0.83690726 0.83466006 0.83466641 0.83354282\n",
      " 0.83690726 0.83466006 0.83466641 0.83354282 0.83578366 0.83466006\n",
      " 0.83578366 0.83578366 0.83578366 0.83466006 0.83578366 0.83578366\n",
      "        nan        nan        nan        nan        nan        nan\n",
      "        nan        nan        nan        nan        nan        nan\n",
      "        nan        nan        nan        nan 0.83130197 0.82904844\n",
      " 0.82904844 0.83130197 0.83130197 0.82904844 0.82904844 0.83130197\n",
      " 0.82904844 0.82678855 0.82791849 0.82904209 0.82904844 0.82678855\n",
      " 0.82791849 0.82904209 0.8369136  0.8369136  0.83466641 0.83466641\n",
      " 0.8369136  0.8369136  0.83466641 0.83466641 0.83241287 0.83353647\n",
      " 0.83128928 0.83241287 0.83241287 0.83353647 0.83128928 0.83241287\n",
      "        nan        nan        nan        nan        nan        nan\n",
      "        nan        nan        nan        nan        nan        nan\n",
      "        nan        nan        nan        nan 0.83129563 0.82904844\n",
      " 0.83017203 0.83130197 0.83129563 0.82904844 0.83017203 0.83130197\n",
      " 0.82904844 0.82678855 0.82904209 0.82904209 0.82904844 0.82678855\n",
      " 0.82904209 0.82904209 0.8369136  0.83579001 0.83579001 0.83466641\n",
      " 0.8369136  0.83579001 0.83579001 0.83466641 0.83241287 0.83353647\n",
      " 0.83128928 0.83241287 0.83241287 0.83353647 0.83128928 0.83241287\n",
      "        nan        nan        nan        nan        nan        nan\n",
      "        nan        nan        nan        nan        nan        nan\n",
      "        nan        nan        nan        nan 0.8267949  0.8267949\n",
      " 0.82791849 0.83016568 0.8267949  0.8267949  0.82791849 0.83016568\n",
      " 0.82791214 0.82566495 0.82566495 0.82791849 0.82791214 0.82566495\n",
      " 0.82566495 0.82791849 0.83241287 0.83353647 0.83128928 0.83241287\n",
      " 0.83241287 0.83353647 0.83128928 0.83241287 0.83241922 0.83016568\n",
      " 0.83128928 0.83128928 0.83241922 0.83016568 0.83128928 0.83128928\n",
      "        nan        nan        nan        nan        nan        nan\n",
      "        nan        nan        nan        nan        nan        nan\n",
      "        nan        nan        nan        nan 0.83017203 0.83017203\n",
      " 0.8267949  0.82791849 0.83017203 0.83017203 0.8267949  0.82791849\n",
      " 0.82791214 0.82678855 0.82791214 0.82791214 0.82791214 0.82678855\n",
      " 0.82791214 0.82791214 0.83353647 0.83241287 0.83016568 0.83016568\n",
      " 0.83353647 0.83241287 0.83016568 0.83016568 0.83017203 0.83241922\n",
      " 0.83017203 0.83017203 0.83017203 0.83241922 0.83017203 0.83017203\n",
      "        nan        nan        nan        nan        nan        nan\n",
      "        nan        nan        nan        nan        nan        nan\n",
      "        nan        nan        nan        nan 0.83129563 0.82904209\n",
      " 0.82792484 0.82791849 0.83129563 0.82904209 0.82792484 0.82791849\n",
      " 0.82791214 0.82678855 0.82678855 0.82791214 0.82791214 0.82678855\n",
      " 0.82678855 0.82791214 0.83466006 0.83466006 0.83129563 0.83129563\n",
      " 0.83466006 0.83466006 0.83129563 0.83129563 0.83017203 0.83017203\n",
      " 0.83017203 0.83129563 0.83017203 0.83017203 0.83017203 0.83129563]\n",
      "  warnings.warn(\n",
      "[2025-06-18 14:47:53] 最佳参数组合：{'bootstrap': True, 'criterion': 'gini', 'max_depth': 20, 'max_features': 10, 'min_samples_leaf': 2, 'min_samples_split': 2, 'n_estimators': 400}\n",
      "[2025-06-18 14:47:53] 最佳交叉验证准确率：0.8369\n"
     ]
    },
    {
     "name": "stdout",
     "output_type": "stream",
     "text": [
      "Random Forest\n",
      "Best Score: 0.8369136037580143\n",
      "Best Parameters: {'bootstrap': True, 'criterion': 'gini', 'max_depth': 20, 'max_features': 10, 'min_samples_leaf': 2, 'min_samples_split': 2, 'n_estimators': 400}\n"
     ]
    }
   ],
   "source": [
    "logging.info(\" 开始 Random Forest 模型的网格搜索调参\")\n",
    "\n",
    "\n",
    "rf = RandomForestClassifier(random_state=1)\n",
    "\n",
    "param_grid = {\n",
    "    'n_estimators': [400, 450, 500, 550],\n",
    "    'criterion': ['gini', 'entropy'],\n",
    "    'bootstrap': [True],\n",
    "    'max_depth': [15, 20, 25],\n",
    "    'max_features': ['auto', 'sqrt', 10],\n",
    "    'min_samples_leaf': [2, 3],\n",
    "    'min_samples_split': [2, 3]\n",
    "}\n",
    "\n",
    "clf_rf = GridSearchCV(rf, param_grid=param_grid, cv=5, verbose=1, n_jobs=-1)\n",
    "\n",
    "best_clf_rf = clf_rf.fit(X_train_scaled, y_train)\n",
    "\n",
    "\n",
    "logging.info(f\"最佳参数组合：{best_clf_rf.best_params_}\")\n",
    "logging.info(f\"最佳交叉验证准确率：{best_clf_rf.best_score_:.4f}\")\n",
    "\n",
    "clf_performance(best_clf_rf, 'Random Forest')"
   ]
  },
  {
   "cell_type": "code",
   "execution_count": 55,
   "metadata": {
    "papermill": {
     "duration": 1.107115,
     "end_time": "2025-06-17T13:50:17.301992",
     "exception": false,
     "start_time": "2025-06-17T13:50:16.194877",
     "status": "completed"
    },
    "tags": []
   },
   "outputs": [
    {
     "data": {
      "text/plain": [
       "<Axes: >"
      ]
     },
     "execution_count": 55,
     "metadata": {},
     "output_type": "execute_result"
    },
    {
     "data": {
      "image/png": "[encoded data removed]",
      "text/plain": [
       "<Figure size 640x480 with 1 Axes>"
      ]
     },
     "metadata": {},
     "output_type": "display_data"
    }
   ],
   "source": [
    "best_rf = best_clf_rf.best_estimator_.fit(X_train_scaled,y_train)\n",
    "feat_importances = pd.Series(best_rf.feature_importances_, index=X_train_scaled.columns)\n",
    "feat_importances.nlargest(20).plot(kind='barh')"
   ]
  },
  {
   "cell_type": "code",
   "execution_count": 56,
   "metadata": {
    "papermill": {
     "duration": 409.256688,
     "end_time": "2025-06-17T13:57:06.625781",
     "exception": false,
     "start_time": "2025-06-17T13:50:17.369093",
     "status": "completed"
    },
    "tags": []
   },
   "outputs": [],
   "source": [
    "# logging.info(\"开始 XGBoost 模型的网格搜索调参\")\n",
    "\n",
    "\n",
    "# xgb = XGBClassifier(random_state=1, use_label_encoder=False, eval_metric='logloss')\n",
    "\n",
    "# param_grid = {\n",
    "#     'n_estimators': [450, 500, 550],\n",
    "#     'colsample_bytree': [0.75, 0.8, 0.85],\n",
    "#     'max_depth': [None],\n",
    "#     'reg_alpha': [1],\n",
    "#     'reg_lambda': [2, 5, 10],\n",
    "#     'subsample': [0.55, 0.6, 0.65],\n",
    "#     'learning_rate': [0.5],\n",
    "#     'gamma': [0.5, 1, 2],\n",
    "#     'min_child_weight': [0.01],\n",
    "#     'sampling_method': ['uniform']\n",
    "# }\n",
    "\n",
    "# clf_xgb = GridSearchCV(xgb, param_grid=param_grid, cv=5, verbose=1, n_jobs=-1)\n",
    "\n",
    "# best_clf_xgb = clf_xgb.fit(X_train_scaled, y_train)\n",
    "\n",
    "# logging.info(f\" 最佳参数组合：{best_clf_xgb.best_params_}\")\n",
    "# logging.info(f\" 最佳交叉验证准确率：{best_clf_xgb.best_score_:.4f}\")\n",
    "\n",
    "# clf_performance(best_clf_xgb, 'XGB')\n"
   ]
  },
  {
   "cell_type": "code",
   "execution_count": 57,
   "metadata": {},
   "outputs": [
    {
     "name": "stderr",
     "output_type": "stream",
     "text": [
      "[2025-06-18 14:47:55] 开始记录xgb每轮的 LogLoss、F1、Accuracy、Precision、Recall\n",
      "[2025-06-18 14:47:55] 第   1 轮 - LogLoss: 0.5240 | F1: 0.6385 | Accuracy: 0.7885 | Precision: 0.9222 | Recall: 0.4882\n",
      "[2025-06-18 14:47:55] 第   2 轮 - LogLoss: 0.4575 | F1: 0.7826 | Accuracy: 0.8425 | Precision: 0.8289 | Recall: 0.7412\n",
      "[2025-06-18 14:47:55] 第   3 轮 - LogLoss: 0.4272 | F1: 0.7760 | Accuracy: 0.8448 | Precision: 0.8659 | Recall: 0.7029\n",
      "[2025-06-18 14:47:55] 第   4 轮 - LogLoss: 0.4079 | F1: 0.7840 | Accuracy: 0.8425 | Precision: 0.8247 | Recall: 0.7471\n",
      "[2025-06-18 14:47:55] 第   5 轮 - LogLoss: 0.3991 | F1: 0.7988 | Accuracy: 0.8515 | Precision: 0.8291 | Recall: 0.7706\n",
      "[2025-06-18 14:47:55] 第   6 轮 - LogLoss: 0.3883 | F1: 0.7988 | Accuracy: 0.8515 | Precision: 0.8291 | Recall: 0.7706\n",
      "[2025-06-18 14:47:55] 第   7 轮 - LogLoss: 0.3817 | F1: 0.8000 | Accuracy: 0.8526 | Precision: 0.8317 | Recall: 0.7706\n",
      "[2025-06-18 14:47:55] 第   8 轮 - LogLoss: 0.3747 | F1: 0.8030 | Accuracy: 0.8526 | Precision: 0.8215 | Recall: 0.7853\n",
      "[2025-06-18 14:47:55] 第   9 轮 - LogLoss: 0.3679 | F1: 0.8116 | Accuracy: 0.8616 | Precision: 0.8466 | Recall: 0.7794\n",
      "[2025-06-18 14:47:55] 第  10 轮 - LogLoss: 0.3651 | F1: 0.8099 | Accuracy: 0.8616 | Precision: 0.8534 | Recall: 0.7706\n",
      "[2025-06-18 14:47:55] 第  11 轮 - LogLoss: 0.3609 | F1: 0.8099 | Accuracy: 0.8616 | Precision: 0.8534 | Recall: 0.7706\n",
      "[2025-06-18 14:47:55] 第  12 轮 - LogLoss: 0.3578 | F1: 0.8111 | Accuracy: 0.8616 | Precision: 0.8489 | Recall: 0.7765\n",
      "[2025-06-18 14:47:55] 第  13 轮 - LogLoss: 0.3557 | F1: 0.8160 | Accuracy: 0.8650 | Precision: 0.8526 | Recall: 0.7824\n",
      "[2025-06-18 14:47:55] 第  14 轮 - LogLoss: 0.3534 | F1: 0.8171 | Accuracy: 0.8650 | Precision: 0.8481 | Recall: 0.7882\n",
      "[2025-06-18 14:47:55] 第  15 轮 - LogLoss: 0.3494 | F1: 0.8127 | Accuracy: 0.8605 | Precision: 0.8354 | Recall: 0.7912\n",
      "[2025-06-18 14:47:55] 第  16 轮 - LogLoss: 0.3451 | F1: 0.8219 | Accuracy: 0.8684 | Precision: 0.8517 | Recall: 0.7941\n",
      "[2025-06-18 14:47:55] 第  17 轮 - LogLoss: 0.3431 | F1: 0.8157 | Accuracy: 0.8628 | Precision: 0.8385 | Recall: 0.7941\n",
      "[2025-06-18 14:47:55] 第  18 轮 - LogLoss: 0.3408 | F1: 0.8267 | Accuracy: 0.8718 | Precision: 0.8553 | Recall: 0.8000\n",
      "[2025-06-18 14:47:55] 第  19 轮 - LogLoss: 0.3388 | F1: 0.8172 | Accuracy: 0.8661 | Precision: 0.8553 | Recall: 0.7824\n",
      "[2025-06-18 14:47:55] 第  20 轮 - LogLoss: 0.3365 | F1: 0.8255 | Accuracy: 0.8706 | Precision: 0.8527 | Recall: 0.8000\n",
      "[2025-06-18 14:47:55] 第  21 轮 - LogLoss: 0.3352 | F1: 0.8226 | Accuracy: 0.8695 | Precision: 0.8567 | Recall: 0.7912\n",
      "[2025-06-18 14:47:55] 第  22 轮 - LogLoss: 0.3341 | F1: 0.8215 | Accuracy: 0.8695 | Precision: 0.8613 | Recall: 0.7853\n",
      "[2025-06-18 14:47:55] 第  23 轮 - LogLoss: 0.3318 | F1: 0.8259 | Accuracy: 0.8729 | Precision: 0.8673 | Recall: 0.7882\n",
      "[2025-06-18 14:47:55] 第  24 轮 - LogLoss: 0.3313 | F1: 0.8318 | Accuracy: 0.8763 | Precision: 0.8662 | Recall: 0.8000\n",
      "[2025-06-18 14:47:55] 第  25 轮 - LogLoss: 0.3307 | F1: 0.8300 | Accuracy: 0.8751 | Precision: 0.8658 | Recall: 0.7971\n",
      "[2025-06-18 14:47:55] 第  26 轮 - LogLoss: 0.3286 | F1: 0.8328 | Accuracy: 0.8785 | Precision: 0.8791 | Recall: 0.7912\n",
      "[2025-06-18 14:47:55] 第  27 轮 - LogLoss: 0.3286 | F1: 0.8328 | Accuracy: 0.8785 | Precision: 0.8791 | Recall: 0.7912\n",
      "[2025-06-18 14:47:55] 第  28 轮 - LogLoss: 0.3256 | F1: 0.8354 | Accuracy: 0.8808 | Precision: 0.8849 | Recall: 0.7912\n",
      "[2025-06-18 14:47:55] 第  29 轮 - LogLoss: 0.3256 | F1: 0.8359 | Accuracy: 0.8808 | Precision: 0.8824 | Recall: 0.7941\n",
      "[2025-06-18 14:47:55] 第  30 轮 - LogLoss: 0.3247 | F1: 0.8292 | Accuracy: 0.8763 | Precision: 0.8783 | Recall: 0.7853\n",
      "[2025-06-18 14:47:55] 第  31 轮 - LogLoss: 0.3244 | F1: 0.8204 | Accuracy: 0.8695 | Precision: 0.8660 | Recall: 0.7794\n",
      "[2025-06-18 14:47:55] 第  32 轮 - LogLoss: 0.3244 | F1: 0.8217 | Accuracy: 0.8706 | Precision: 0.8689 | Recall: 0.7794\n",
      "[2025-06-18 14:47:55] 第  33 轮 - LogLoss: 0.3220 | F1: 0.8239 | Accuracy: 0.8740 | Precision: 0.8851 | Recall: 0.7706\n",
      "[2025-06-18 14:47:55] 第  34 轮 - LogLoss: 0.3210 | F1: 0.8287 | Accuracy: 0.8763 | Precision: 0.8808 | Recall: 0.7824\n",
      "[2025-06-18 14:47:55] 第  35 轮 - LogLoss: 0.3204 | F1: 0.8274 | Accuracy: 0.8751 | Precision: 0.8779 | Recall: 0.7824\n",
      "[2025-06-18 14:47:55] 第  36 轮 - LogLoss: 0.3186 | F1: 0.8359 | Accuracy: 0.8808 | Precision: 0.8824 | Recall: 0.7941\n",
      "[2025-06-18 14:47:55] 第  37 轮 - LogLoss: 0.3180 | F1: 0.8372 | Accuracy: 0.8819 | Precision: 0.8852 | Recall: 0.7941\n",
      "[2025-06-18 14:47:55] 第  38 轮 - LogLoss: 0.3158 | F1: 0.8379 | Accuracy: 0.8808 | Precision: 0.8726 | Recall: 0.8059\n",
      "[2025-06-18 14:47:55] 第  39 轮 - LogLoss: 0.3134 | F1: 0.8436 | Accuracy: 0.8853 | Precision: 0.8814 | Recall: 0.8088\n",
      "[2025-06-18 14:47:55] 第  40 轮 - LogLoss: 0.3107 | F1: 0.8436 | Accuracy: 0.8853 | Precision: 0.8814 | Recall: 0.8088\n",
      "[2025-06-18 14:47:55] 第  41 轮 - LogLoss: 0.3100 | F1: 0.8492 | Accuracy: 0.8898 | Precision: 0.8903 | Recall: 0.8118\n",
      "[2025-06-18 14:47:55] 第  42 轮 - LogLoss: 0.3089 | F1: 0.8449 | Accuracy: 0.8864 | Precision: 0.8842 | Recall: 0.8088\n",
      "[2025-06-18 14:47:55] 第  43 轮 - LogLoss: 0.3074 | F1: 0.8449 | Accuracy: 0.8864 | Precision: 0.8842 | Recall: 0.8088\n",
      "[2025-06-18 14:47:55] 第  44 轮 - LogLoss: 0.3061 | F1: 0.8403 | Accuracy: 0.8841 | Precision: 0.8885 | Recall: 0.7971\n",
      "[2025-06-18 14:47:55] 第  45 轮 - LogLoss: 0.3046 | F1: 0.8431 | Accuracy: 0.8853 | Precision: 0.8839 | Recall: 0.8059\n",
      "[2025-06-18 14:47:55] 第  46 轮 - LogLoss: 0.3046 | F1: 0.8418 | Accuracy: 0.8841 | Precision: 0.8810 | Recall: 0.8059\n",
      "[2025-06-18 14:47:55] 第  47 轮 - LogLoss: 0.3043 | F1: 0.8408 | Accuracy: 0.8841 | Precision: 0.8860 | Recall: 0.8000\n",
      "[2025-06-18 14:47:55] 第  48 轮 - LogLoss: 0.3037 | F1: 0.8395 | Accuracy: 0.8830 | Precision: 0.8831 | Recall: 0.8000\n",
      "[2025-06-18 14:47:55] 第  49 轮 - LogLoss: 0.3033 | F1: 0.8413 | Accuracy: 0.8841 | Precision: 0.8835 | Recall: 0.8029\n",
      "[2025-06-18 14:47:55] 第  50 轮 - LogLoss: 0.3035 | F1: 0.8445 | Accuracy: 0.8853 | Precision: 0.8766 | Recall: 0.8147\n",
      "[2025-06-18 14:47:55] 第  51 轮 - LogLoss: 0.3034 | F1: 0.8410 | Accuracy: 0.8830 | Precision: 0.8758 | Recall: 0.8088\n",
      "[2025-06-18 14:47:55] 第  52 轮 - LogLoss: 0.3029 | F1: 0.8418 | Accuracy: 0.8841 | Precision: 0.8810 | Recall: 0.8059\n",
      "[2025-06-18 14:47:55] 第  53 轮 - LogLoss: 0.3030 | F1: 0.8445 | Accuracy: 0.8853 | Precision: 0.8766 | Recall: 0.8147\n",
      "[2025-06-18 14:47:56] 第  54 轮 - LogLoss: 0.3020 | F1: 0.8484 | Accuracy: 0.8886 | Precision: 0.8850 | Recall: 0.8147\n",
      "[2025-06-18 14:47:56] 第  55 轮 - LogLoss: 0.3018 | F1: 0.8471 | Accuracy: 0.8875 | Precision: 0.8822 | Recall: 0.8147\n",
      "[2025-06-18 14:47:56] 第  56 轮 - LogLoss: 0.3018 | F1: 0.8444 | Accuracy: 0.8864 | Precision: 0.8867 | Recall: 0.8059\n",
      "[2025-06-18 14:47:56] 第  57 轮 - LogLoss: 0.3011 | F1: 0.8466 | Accuracy: 0.8875 | Precision: 0.8846 | Recall: 0.8118\n",
      "[2025-06-18 14:47:56] 第  58 轮 - LogLoss: 0.3002 | F1: 0.8515 | Accuracy: 0.8909 | Precision: 0.8882 | Recall: 0.8176\n",
      "[2025-06-18 14:47:56] 第  59 轮 - LogLoss: 0.3002 | F1: 0.8515 | Accuracy: 0.8909 | Precision: 0.8882 | Recall: 0.8176\n",
      "[2025-06-18 14:47:56] 第  60 轮 - LogLoss: 0.2999 | F1: 0.8510 | Accuracy: 0.8909 | Precision: 0.8907 | Recall: 0.8147\n",
      "[2025-06-18 14:47:56] 第  61 轮 - LogLoss: 0.2982 | F1: 0.8484 | Accuracy: 0.8886 | Precision: 0.8850 | Recall: 0.8147\n",
      "[2025-06-18 14:47:56] 第  62 轮 - LogLoss: 0.2978 | F1: 0.8497 | Accuracy: 0.8898 | Precision: 0.8878 | Recall: 0.8147\n",
      "[2025-06-18 14:47:56] 第  63 轮 - LogLoss: 0.2979 | F1: 0.8502 | Accuracy: 0.8898 | Precision: 0.8854 | Recall: 0.8176\n",
      "[2025-06-18 14:47:56] 第  64 轮 - LogLoss: 0.2979 | F1: 0.8528 | Accuracy: 0.8920 | Precision: 0.8910 | Recall: 0.8176\n",
      "[2025-06-18 14:47:56] 第  65 轮 - LogLoss: 0.2977 | F1: 0.8479 | Accuracy: 0.8886 | Precision: 0.8875 | Recall: 0.8118\n",
      "[2025-06-18 14:47:56] 第  66 轮 - LogLoss: 0.2968 | F1: 0.8528 | Accuracy: 0.8920 | Precision: 0.8910 | Recall: 0.8176\n",
      "[2025-06-18 14:47:56] 第  67 轮 - LogLoss: 0.2963 | F1: 0.8515 | Accuracy: 0.8909 | Precision: 0.8882 | Recall: 0.8176\n",
      "[2025-06-18 14:47:56] 第  68 轮 - LogLoss: 0.2954 | F1: 0.8528 | Accuracy: 0.8920 | Precision: 0.8910 | Recall: 0.8176\n",
      "[2025-06-18 14:47:56] 第  69 轮 - LogLoss: 0.2954 | F1: 0.8510 | Accuracy: 0.8909 | Precision: 0.8907 | Recall: 0.8147\n",
      "[2025-06-18 14:47:56] 第  70 轮 - LogLoss: 0.2954 | F1: 0.8515 | Accuracy: 0.8909 | Precision: 0.8882 | Recall: 0.8176\n",
      "[2025-06-18 14:47:56] 第  71 轮 - LogLoss: 0.2941 | F1: 0.8416 | Accuracy: 0.8853 | Precision: 0.8914 | Recall: 0.7971\n",
      "[2025-06-18 14:47:56] 第  72 轮 - LogLoss: 0.2937 | F1: 0.8505 | Accuracy: 0.8909 | Precision: 0.8932 | Recall: 0.8118\n",
      "[2025-06-18 14:47:56] 第  73 轮 - LogLoss: 0.2937 | F1: 0.8471 | Accuracy: 0.8875 | Precision: 0.8822 | Recall: 0.8147\n",
      "[2025-06-18 14:47:56] 第  74 轮 - LogLoss: 0.2923 | F1: 0.8475 | Accuracy: 0.8886 | Precision: 0.8900 | Recall: 0.8088\n",
      "[2025-06-18 14:47:56] 第  75 轮 - LogLoss: 0.2920 | F1: 0.8385 | Accuracy: 0.8830 | Precision: 0.8882 | Recall: 0.7941\n",
      "[2025-06-18 14:47:56] 第  76 轮 - LogLoss: 0.2917 | F1: 0.8447 | Accuracy: 0.8875 | Precision: 0.8947 | Recall: 0.8000\n",
      "[2025-06-18 14:47:56] 第  77 轮 - LogLoss: 0.2910 | F1: 0.8393 | Accuracy: 0.8841 | Precision: 0.8937 | Recall: 0.7912\n",
      "[2025-06-18 14:47:56] 第  78 轮 - LogLoss: 0.2907 | F1: 0.8398 | Accuracy: 0.8841 | Precision: 0.8911 | Recall: 0.7941\n",
      "[2025-06-18 14:47:56] 第  79 轮 - LogLoss: 0.2901 | F1: 0.8421 | Accuracy: 0.8853 | Precision: 0.8889 | Recall: 0.8000\n",
      "[2025-06-18 14:47:56] 第  80 轮 - LogLoss: 0.2902 | F1: 0.8439 | Accuracy: 0.8864 | Precision: 0.8893 | Recall: 0.8029\n",
      "[2025-06-18 14:47:56] 第  81 轮 - LogLoss: 0.2893 | F1: 0.8474 | Accuracy: 0.8898 | Precision: 0.9007 | Recall: 0.8000\n",
      "[2025-06-18 14:47:56] 第  82 轮 - LogLoss: 0.2881 | F1: 0.8464 | Accuracy: 0.8898 | Precision: 0.9060 | Recall: 0.7941\n",
      "[2025-06-18 14:47:56] 第  83 轮 - LogLoss: 0.2878 | F1: 0.8505 | Accuracy: 0.8920 | Precision: 0.9040 | Recall: 0.8029\n",
      "[2025-06-18 14:47:56] 第  84 轮 - LogLoss: 0.2870 | F1: 0.8447 | Accuracy: 0.8875 | Precision: 0.8947 | Recall: 0.8000\n",
      "[2025-06-18 14:47:56] 第  85 轮 - LogLoss: 0.2870 | F1: 0.8447 | Accuracy: 0.8875 | Precision: 0.8947 | Recall: 0.8000\n",
      "[2025-06-18 14:47:56] 第  86 轮 - LogLoss: 0.2866 | F1: 0.8469 | Accuracy: 0.8898 | Precision: 0.9033 | Recall: 0.7971\n",
      "[2025-06-18 14:47:56] 第  87 轮 - LogLoss: 0.2865 | F1: 0.8434 | Accuracy: 0.8864 | Precision: 0.8918 | Recall: 0.8000\n",
      "[2025-06-18 14:47:56] 第  88 轮 - LogLoss: 0.2866 | F1: 0.8460 | Accuracy: 0.8886 | Precision: 0.8977 | Recall: 0.8000\n",
      "[2025-06-18 14:47:56] 第  89 轮 - LogLoss: 0.2865 | F1: 0.8460 | Accuracy: 0.8886 | Precision: 0.8977 | Recall: 0.8000\n",
      "[2025-06-18 14:47:56] 第  90 轮 - LogLoss: 0.2862 | F1: 0.8483 | Accuracy: 0.8898 | Precision: 0.8954 | Recall: 0.8059\n",
      "[2025-06-18 14:47:56] 第  91 轮 - LogLoss: 0.2859 | F1: 0.8460 | Accuracy: 0.8886 | Precision: 0.8977 | Recall: 0.8000\n",
      "[2025-06-18 14:47:56] 第  92 轮 - LogLoss: 0.2854 | F1: 0.8382 | Accuracy: 0.8819 | Precision: 0.8803 | Recall: 0.8000\n",
      "[2025-06-18 14:47:56] 第  93 轮 - LogLoss: 0.2848 | F1: 0.8501 | Accuracy: 0.8909 | Precision: 0.8958 | Recall: 0.8088\n",
      "[2025-06-18 14:47:56] 第  94 轮 - LogLoss: 0.2845 | F1: 0.8457 | Accuracy: 0.8875 | Precision: 0.8896 | Recall: 0.8059\n",
      "[2025-06-18 14:47:56] 第  95 轮 - LogLoss: 0.2839 | F1: 0.8488 | Accuracy: 0.8898 | Precision: 0.8929 | Recall: 0.8088\n",
      "[2025-06-18 14:47:56] 第  96 轮 - LogLoss: 0.2840 | F1: 0.8465 | Accuracy: 0.8886 | Precision: 0.8951 | Recall: 0.8029\n",
      "[2025-06-18 14:47:56] 第  97 轮 - LogLoss: 0.2839 | F1: 0.8453 | Accuracy: 0.8864 | Precision: 0.8818 | Recall: 0.8118\n",
      "[2025-06-18 14:47:56] 第  98 轮 - LogLoss: 0.2827 | F1: 0.8492 | Accuracy: 0.8898 | Precision: 0.8903 | Recall: 0.8118\n",
      "[2025-06-18 14:47:56] 第  99 轮 - LogLoss: 0.2825 | F1: 0.8497 | Accuracy: 0.8898 | Precision: 0.8878 | Recall: 0.8147\n",
      "[2025-06-18 14:47:56] 第 100 轮 - LogLoss: 0.2805 | F1: 0.8528 | Accuracy: 0.8920 | Precision: 0.8910 | Recall: 0.8176\n"
     ]
    },
    {
     "name": "stdout",
     "output_type": "stream",
     "text": [
      "最终第 100 轮：\n",
      "LogLoss:   0.2805\n",
      "F1:        0.8528\n",
      "Accuracy:  0.8920\n",
      "Precision: 0.8910\n",
      "Recall:    0.8176\n"
     ]
    }
   ],
   "source": [
    "import xgboost as xgb  # 保留模块名为 xgb\n",
    "from sklearn.metrics import f1_score, accuracy_score, precision_score, recall_score, log_loss\n",
    "\n",
    "logging.basicConfig(filename='train_log.txt', level=logging.INFO)\n",
    "logging.info(\"开始记录xgb每轮的 LogLoss、F1、Accuracy、Precision、Recall\")\n",
    "\n",
    "dtrain = xgb.DMatrix(X_train_scaled, label=y_train)\n",
    "\n",
    "params = {\n",
    "    'objective': 'binary:logistic',\n",
    "    'eval_metric': 'logloss',\n",
    "    'eta': 0.5,\n",
    "    'colsample_bytree': 0.75,\n",
    "    'gamma': 0.5,\n",
    "    'max_depth': 6,\n",
    "    'reg_alpha': 1,\n",
    "    'reg_lambda': 10,\n",
    "    'subsample': 0.65,\n",
    "    'min_child_weight': 0.01,\n",
    "    'seed': 1\n",
    "}\n",
    "\n",
    "num_round = 100\n",
    "bst = xgb.train(params, dtrain, num_boost_round=num_round, evals=[(dtrain, 'train')], verbose_eval=False)\n",
    "\n",
    "f1_list, acc_list, prec_list, recall_list, logloss_list = [], [], [], [], []\n",
    "\n",
    "for i in range(1, num_round + 1):\n",
    "    y_pred_prob = bst.predict(dtrain, iteration_range=(0, i))\n",
    "    y_pred = (y_pred_prob >= 0.5).astype(int)\n",
    "\n",
    "    f1 = f1_score(y_train, y_pred)\n",
    "    acc = accuracy_score(y_train, y_pred)\n",
    "    prec = precision_score(y_train, y_pred)\n",
    "    recall = recall_score(y_train, y_pred)\n",
    "    loss = log_loss(y_train, y_pred_prob)\n",
    "\n",
    "    f1_list.append(f1)\n",
    "    acc_list.append(acc)\n",
    "    prec_list.append(prec)\n",
    "    recall_list.append(recall)\n",
    "    logloss_list.append(loss)\n",
    "\n",
    "    logging.info(f\"第 {i:3d} 轮 - LogLoss: {loss:.4f} | F1: {f1:.4f} | Accuracy: {acc:.4f} | Precision: {prec:.4f} | Recall: {recall:.4f}\")\n",
    "\n",
    "print(f\"最终第 {num_round} 轮：\")\n",
    "print(f\"LogLoss:   {logloss_list[-1]:.4f}\")\n",
    "print(f\"F1:        {f1_list[-1]:.4f}\")\n",
    "print(f\"Accuracy:  {acc_list[-1]:.4f}\")\n",
    "print(f\"Precision: {prec_list[-1]:.4f}\")\n",
    "print(f\"Recall:    {recall_list[-1]:.4f}\")"
   ]
  },
  {
   "cell_type": "code",
   "execution_count": 58,
   "metadata": {
    "papermill": {
     "duration": 0.116172,
     "end_time": "2025-06-17T13:57:06.844155",
     "exception": false,
     "start_time": "2025-06-17T13:57:06.727983",
     "status": "completed"
    },
    "tags": []
   },
   "outputs": [],
   "source": [
    "dtest = xgb.DMatrix(X_test_scaled)\n",
    "\n",
    "y_hat_xgb = bst.predict(dtest)\n",
    "y_hat_xgb_label = (y_hat_xgb >= 0.5).astype(int)  # 将概率转为0/1标签\n",
    "\n",
    "xgb_submission = {\n",
    "    'PassengerId': test.PassengerId,\n",
    "    'Survived': y_hat_xgb_label\n",
    "}\n",
    "submission_xgb = pd.DataFrame(data=xgb_submission)\n",
    "\n",
    "submission_xgb.to_csv('xgb_submission_final.csv', index=False)\n"
   ]
  }
 ],
 "metadata": {
  "kaggle": {
   "accelerator": "none",
   "dataSources": [
    {
     "databundleVersionId": 26502,
     "sourceId": 3136,
     "sourceType": "competition"
    }
   ],
   "dockerImageVersionId": 29962,
   "isGpuEnabled": false,
   "isInternetEnabled": false,
   "language": "python",
   "sourceType": "notebook"
  },
  "kernelspec": {
   "display_name": "Python 3 (ipykernel)",
   "language": "python",
   "name": "python3"
  },
  "language_info": {
   "codemirror_mode": {
    "name": "ipython",
    "version": 3
   },
   "file_extension": ".py",
   "mimetype": "text/x-python",
   "name": "python",
   "nbconvert_exporter": "python",
   "pygments_lexer": "ipython3",
   "version": "3.10.15"
  },
  "papermill": {
   "duration": 1221.84106,
   "end_time": "2025-06-17T13:57:07.223425",
   "environment_variables": {},
   "exception": null,
   "input_path": "__notebook__.ipynb",
   "output_path": "__notebook__.ipynb",
   "parameters": {},
   "start_time": "2025-06-17T13:36:45.382365",
   "version": "2.1.0"
  }
 },
 "nbformat": 4,
 "nbformat_minor": 4
}
